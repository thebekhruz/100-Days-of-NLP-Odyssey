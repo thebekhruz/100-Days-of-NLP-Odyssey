{
 "cells": [
  {
   "cell_type": "code",
   "execution_count": 23,
   "metadata": {},
   "outputs": [],
   "source": [
    "import pandas as pd\n"
   ]
  },
  {
   "cell_type": "code",
   "execution_count": 24,
   "metadata": {},
   "outputs": [],
   "source": [
    "input_file_path = '/Users/thebekhruz/Desktop/100Days-Of-Code/100-Days-of-NLP-Odyssey/data/processed_data/processed_data_descr.csv'\n",
    "output_file_path_titles = 'data/processed_data/processed_data_title.csv'\n",
    "output_file_path_descriptions = 'data/processed_data/processed_data_descr.csv'"
   ]
  },
  {
   "cell_type": "code",
   "execution_count": 25,
   "metadata": {},
   "outputs": [
    {
     "data": {
      "text/html": [
       "<div>\n",
       "<style scoped>\n",
       "    .dataframe tbody tr th:only-of-type {\n",
       "        vertical-align: middle;\n",
       "    }\n",
       "\n",
       "    .dataframe tbody tr th {\n",
       "        vertical-align: top;\n",
       "    }\n",
       "\n",
       "    .dataframe thead th {\n",
       "        text-align: right;\n",
       "    }\n",
       "</style>\n",
       "<table border=\"1\" class=\"dataframe\">\n",
       "  <thead>\n",
       "    <tr style=\"text-align: right;\">\n",
       "      <th></th>\n",
       "      <th>doc_id</th>\n",
       "      <th>type</th>\n",
       "      <th>value</th>\n",
       "    </tr>\n",
       "  </thead>\n",
       "  <tbody>\n",
       "    <tr>\n",
       "      <th>0</th>\n",
       "      <td>a7bb9917-95ff-3f55-a640-4c5afcec25f2</td>\n",
       "      <td>description</td>\n",
       "      <td>east corner queen victoria road junction easto...</td>\n",
       "    </tr>\n",
       "    <tr>\n",
       "      <th>1</th>\n",
       "      <td>c29a7b77-7c46-3b85-88fe-05c8f4b2e384</td>\n",
       "      <td>description</td>\n",
       "      <td>page bucks free press time capsule 7th july 18...</td>\n",
       "    </tr>\n",
       "    <tr>\n",
       "      <th>2</th>\n",
       "      <td>196c11e6-f7b6-392f-ae41-28653345087c</td>\n",
       "      <td>description</td>\n",
       "      <td>new police station high wycombe view opposite ...</td>\n",
       "    </tr>\n",
       "    <tr>\n",
       "      <th>3</th>\n",
       "      <td>7a5aace6-2398-3dcf-8843-37ff6ccea875</td>\n",
       "      <td>description</td>\n",
       "      <td>corridor entrance reference library</td>\n",
       "    </tr>\n",
       "    <tr>\n",
       "      <th>4</th>\n",
       "      <td>c66c4715-c03a-3aab-964b-e733f3ff1cf4</td>\n",
       "      <td>description</td>\n",
       "      <td>terrace brick flint cottage</td>\n",
       "    </tr>\n",
       "    <tr>\n",
       "      <th>5</th>\n",
       "      <td>d1159b13-8aa9-35c1-a4c2-fd13e24732b2</td>\n",
       "      <td>description</td>\n",
       "      <td>site dial house adjacent shop demolition easto...</td>\n",
       "    </tr>\n",
       "    <tr>\n",
       "      <th>6</th>\n",
       "      <td>e39a291d-ed39-3b56-b9aa-2022964a4114</td>\n",
       "      <td>description</td>\n",
       "      <td>row cottage wash house factory building cooper...</td>\n",
       "    </tr>\n",
       "    <tr>\n",
       "      <th>7</th>\n",
       "      <td>3b84ea4c-e194-3c34-abbf-064a41ad59da</td>\n",
       "      <td>description</td>\n",
       "      <td>60th anniversary opening library mock 1930sout...</td>\n",
       "    </tr>\n",
       "    <tr>\n",
       "      <th>8</th>\n",
       "      <td>bf418a27-d1d9-324b-a53f-50ab7ae8d81d</td>\n",
       "      <td>description</td>\n",
       "      <td>post office construction dial house christchur...</td>\n",
       "    </tr>\n",
       "    <tr>\n",
       "      <th>9</th>\n",
       "      <td>5bc83263-dcd0-3764-98cb-a3761480b4c7</td>\n",
       "      <td>description</td>\n",
       "      <td>new police station high wycombe</td>\n",
       "    </tr>\n",
       "  </tbody>\n",
       "</table>\n",
       "</div>"
      ],
      "text/plain": [
       "                                 doc_id         type  \\\n",
       "0  a7bb9917-95ff-3f55-a640-4c5afcec25f2  description   \n",
       "1  c29a7b77-7c46-3b85-88fe-05c8f4b2e384  description   \n",
       "2  196c11e6-f7b6-392f-ae41-28653345087c  description   \n",
       "3  7a5aace6-2398-3dcf-8843-37ff6ccea875  description   \n",
       "4  c66c4715-c03a-3aab-964b-e733f3ff1cf4  description   \n",
       "5  d1159b13-8aa9-35c1-a4c2-fd13e24732b2  description   \n",
       "6  e39a291d-ed39-3b56-b9aa-2022964a4114  description   \n",
       "7  3b84ea4c-e194-3c34-abbf-064a41ad59da  description   \n",
       "8  bf418a27-d1d9-324b-a53f-50ab7ae8d81d  description   \n",
       "9  5bc83263-dcd0-3764-98cb-a3761480b4c7  description   \n",
       "\n",
       "                                               value  \n",
       "0  east corner queen victoria road junction easto...  \n",
       "1  page bucks free press time capsule 7th july 18...  \n",
       "2  new police station high wycombe view opposite ...  \n",
       "3                corridor entrance reference library  \n",
       "4                        terrace brick flint cottage  \n",
       "5  site dial house adjacent shop demolition easto...  \n",
       "6  row cottage wash house factory building cooper...  \n",
       "7  60th anniversary opening library mock 1930sout...  \n",
       "8  post office construction dial house christchur...  \n",
       "9                    new police station high wycombe  "
      ]
     },
     "execution_count": 25,
     "metadata": {},
     "output_type": "execute_result"
    }
   ],
   "source": [
    "df = pd.read_csv(input_file_path, delimiter='\\t', header=None, names=['doc_id', 'type', 'value'])\n",
    "df.head(10)"
   ]
  },
  {
   "cell_type": "code",
   "execution_count": 26,
   "metadata": {},
   "outputs": [
    {
     "data": {
      "text/plain": [
       "doc_id  type   value\n",
       "False   False  False    42300\n",
       "               True         2\n",
       "Name: count, dtype: int64"
      ]
     },
     "execution_count": 26,
     "metadata": {},
     "output_type": "execute_result"
    }
   ],
   "source": [
    "df.isna().value_counts()"
   ]
  },
  {
   "cell_type": "code",
   "execution_count": 27,
   "metadata": {},
   "outputs": [],
   "source": [
    "df.fillna('None', inplace=True)"
   ]
  },
  {
   "cell_type": "code",
   "execution_count": 28,
   "metadata": {},
   "outputs": [],
   "source": [
    "from sentence_transformers import SentenceTransformer\n",
    "model = SentenceTransformer(\"all-mpnet-base-v2\")"
   ]
  },
  {
   "cell_type": "code",
   "execution_count": 32,
   "metadata": {},
   "outputs": [],
   "source": [
    "df['DescriptionVector'] = df['value'].apply(lambda x: model.encode(x))"
   ]
  },
  {
   "cell_type": "code",
   "execution_count": 33,
   "metadata": {},
   "outputs": [
    {
     "data": {
      "text/html": [
       "<div>\n",
       "<style scoped>\n",
       "    .dataframe tbody tr th:only-of-type {\n",
       "        vertical-align: middle;\n",
       "    }\n",
       "\n",
       "    .dataframe tbody tr th {\n",
       "        vertical-align: top;\n",
       "    }\n",
       "\n",
       "    .dataframe thead th {\n",
       "        text-align: right;\n",
       "    }\n",
       "</style>\n",
       "<table border=\"1\" class=\"dataframe\">\n",
       "  <thead>\n",
       "    <tr style=\"text-align: right;\">\n",
       "      <th></th>\n",
       "      <th>doc_id</th>\n",
       "      <th>type</th>\n",
       "      <th>value</th>\n",
       "      <th>DescriptionVector</th>\n",
       "    </tr>\n",
       "  </thead>\n",
       "  <tbody>\n",
       "    <tr>\n",
       "      <th>0</th>\n",
       "      <td>a7bb9917-95ff-3f55-a640-4c5afcec25f2</td>\n",
       "      <td>description</td>\n",
       "      <td>east corner queen victoria road junction easto...</td>\n",
       "      <td>[0.0010302312, -0.023901274, 0.01724779, 0.049...</td>\n",
       "    </tr>\n",
       "    <tr>\n",
       "      <th>1</th>\n",
       "      <td>c29a7b77-7c46-3b85-88fe-05c8f4b2e384</td>\n",
       "      <td>description</td>\n",
       "      <td>page bucks free press time capsule 7th july 18...</td>\n",
       "      <td>[-0.01174476, 0.020760344, 0.0038109133, 0.004...</td>\n",
       "    </tr>\n",
       "    <tr>\n",
       "      <th>2</th>\n",
       "      <td>196c11e6-f7b6-392f-ae41-28653345087c</td>\n",
       "      <td>description</td>\n",
       "      <td>new police station high wycombe view opposite ...</td>\n",
       "      <td>[-0.002487674, 0.0084320465, 0.0564526, 0.0341...</td>\n",
       "    </tr>\n",
       "    <tr>\n",
       "      <th>3</th>\n",
       "      <td>7a5aace6-2398-3dcf-8843-37ff6ccea875</td>\n",
       "      <td>description</td>\n",
       "      <td>corridor entrance reference library</td>\n",
       "      <td>[0.00631654, 0.0067037106, -0.006011956, 0.020...</td>\n",
       "    </tr>\n",
       "    <tr>\n",
       "      <th>4</th>\n",
       "      <td>c66c4715-c03a-3aab-964b-e733f3ff1cf4</td>\n",
       "      <td>description</td>\n",
       "      <td>terrace brick flint cottage</td>\n",
       "      <td>[-0.057990633, -0.028714327, 0.003651726, 0.02...</td>\n",
       "    </tr>\n",
       "  </tbody>\n",
       "</table>\n",
       "</div>"
      ],
      "text/plain": [
       "                                 doc_id         type  \\\n",
       "0  a7bb9917-95ff-3f55-a640-4c5afcec25f2  description   \n",
       "1  c29a7b77-7c46-3b85-88fe-05c8f4b2e384  description   \n",
       "2  196c11e6-f7b6-392f-ae41-28653345087c  description   \n",
       "3  7a5aace6-2398-3dcf-8843-37ff6ccea875  description   \n",
       "4  c66c4715-c03a-3aab-964b-e733f3ff1cf4  description   \n",
       "\n",
       "                                               value  \\\n",
       "0  east corner queen victoria road junction easto...   \n",
       "1  page bucks free press time capsule 7th july 18...   \n",
       "2  new police station high wycombe view opposite ...   \n",
       "3                corridor entrance reference library   \n",
       "4                        terrace brick flint cottage   \n",
       "\n",
       "                                   DescriptionVector  \n",
       "0  [0.0010302312, -0.023901274, 0.01724779, 0.049...  \n",
       "1  [-0.01174476, 0.020760344, 0.0038109133, 0.004...  \n",
       "2  [-0.002487674, 0.0084320465, 0.0564526, 0.0341...  \n",
       "3  [0.00631654, 0.0067037106, -0.006011956, 0.020...  \n",
       "4  [-0.057990633, -0.028714327, 0.003651726, 0.02...  "
      ]
     },
     "execution_count": 33,
     "metadata": {},
     "output_type": "execute_result"
    }
   ],
   "source": [
    "df.head()"
   ]
  },
  {
   "cell_type": "code",
   "execution_count": 36,
   "metadata": {},
   "outputs": [],
   "source": [
    "output_file_path = '/Users/thebekhruz/Desktop/100Days-Of-Code/100-Days-of-NLP-Odyssey/data/processed_data/processed_desc_vec.csv'\n",
    "df.to_csv(output_file_path, sep='\\t', index=False, header=None)"
   ]
  },
  {
   "cell_type": "code",
   "execution_count": 37,
   "metadata": {},
   "outputs": [],
   "source": [
    "from elasticsearch import Elasticsearch"
   ]
  },
  {
   "cell_type": "code",
   "execution_count": 38,
   "metadata": {},
   "outputs": [
    {
     "data": {
      "text/plain": [
       "True"
      ]
     },
     "execution_count": 38,
     "metadata": {},
     "output_type": "execute_result"
    }
   ],
   "source": [
    "es = Elasticsearch(\n",
    "    \"https://localhost:9200/\",\n",
    "    basic_auth=(\"elastic\", \"XFvYbJBlk8zQARYN26ZV\"),\n",
    "    ca_certs=\"/Users/thebekhruz/Desktop/100Days-Of-Code/elasticsearch-8.12.1/config/certs/http_ca.crt\"\n",
    ")\n",
    "\n",
    "es.ping()"
   ]
  },
  {
   "cell_type": "code",
   "execution_count": 43,
   "metadata": {},
   "outputs": [],
   "source": [
    "mapping = {\n",
    "    \"properties\": {\n",
    "        \"doc_id\": {\n",
    "            \"type\": \"keyword\"   # Suitable for unique identifiers\n",
    "        },\n",
    "        \"description\": {\n",
    "            \"type\": \"text\"      # Suitable for full-text search\n",
    "        },\n",
    "        \"description_vector\": {\n",
    "            \"type\": \"dense_vector\",\n",
    "            \"dims\": 768,\n",
    "            \"index\": True,\n",
    "            \"similarity\": \"l2_norm\"\n",
    "        }\n",
    "    }\n",
    "}\n"
   ]
  },
  {
   "cell_type": "code",
   "execution_count": 44,
   "metadata": {},
   "outputs": [
    {
     "data": {
      "text/plain": [
       "ObjectApiResponse({'acknowledged': True, 'shards_acknowledged': True, 'index': 'odyssey'})"
      ]
     },
     "execution_count": 44,
     "metadata": {},
     "output_type": "execute_result"
    }
   ],
   "source": [
    "es.indices.create(index='odyssey', mappings=mapping )"
   ]
  },
  {
   "cell_type": "code",
   "execution_count": 50,
   "metadata": {},
   "outputs": [],
   "source": [
    "records = df.to_dict(orient='records')"
   ]
  },
  {
   "cell_type": "code",
   "execution_count": 55,
   "metadata": {},
   "outputs": [],
   "source": [
    "# records[0]\n"
   ]
  },
  {
   "cell_type": "code",
   "execution_count": 56,
   "metadata": {},
   "outputs": [],
   "source": [
    "for record in records:\n",
    "    try:\n",
    "        es.index(index='odyssey', body=record, id=record['doc_id'])\n",
    "    except Exception as e:\n",
    "        print(f'An error has occured: {e}')"
   ]
  },
  {
   "cell_type": "code",
   "execution_count": 60,
   "metadata": {},
   "outputs": [
    {
     "name": "stderr",
     "output_type": "stream",
     "text": [
      "/var/folders/xh/x6c57wpx5hv7g4hxw7y4c6cc0000gn/T/ipykernel_8464/2144712460.py:13: ElasticsearchWarning: The kNN search API has been replaced by the `knn` option in the search API.\n",
      "  res = es.knn_search(index='odyssey', knn=query, source=[\"doc_id\", \"value\"])\n"
     ]
    },
    {
     "data": {
      "text/plain": [
       "[{'_index': 'odyssey',\n",
       "  '_id': '30ad96fd-bf95-3b9c-9a02-e6c7a323aac7',\n",
       "  '_score': 0.7996934,\n",
       "  '_source': {'doc_id': '30ad96fd-bf95-3b9c-9a02-e6c7a323aac7',\n",
       "   'value': 'appear press report image show queen accompany earl de la warr postmaster general leave queen horace harrison lady margaret hay lord cottesloe hon martin charteris'}},\n",
       " {'_index': 'odyssey',\n",
       "  '_id': 'a32cf70d-a5f8-352f-aa4e-102e09af46cc',\n",
       "  '_score': 0.7763544,\n",
       "  '_source': {'doc_id': 'a32cf70d-a5f8-352f-aa4e-102e09af46cc',\n",
       "   'value': 'upper green street high wycombe queen victoria plaque 1897 show picture victoria surround name country empire'}},\n",
       " {'_index': 'odyssey',\n",
       "  '_id': 'fff8c4c3-f959-31ae-a5a4-2a99e4f3c95c',\n",
       "  '_score': 0.7742809,\n",
       "  '_source': {'doc_id': 'fff8c4c3-f959-31ae-a5a4-2a99e4f3c95c',\n",
       "   'value': 'view plaque commemorate 60 year reign queen victoria queen great britain ireland empress india etc date 1897 set wall house upper green street'}},\n",
       " {'_index': 'odyssey',\n",
       "  '_id': '184f1135-9585-3da0-95f5-908226d935bb',\n",
       "  '_score': 0.7651417,\n",
       "  '_source': {'doc_id': '184f1135-9585-3da0-95f5-908226d935bb',\n",
       "   'value': 'view princess mary princess royal receive bouquet flower girl guide canon graves stand right occasion presentation deed court gardens general higginson'}},\n",
       " {'_index': 'odyssey',\n",
       "  '_id': '05f85413-d8cf-3dfa-b695-e5f5908d71a8',\n",
       "  '_score': 0.76471764,\n",
       "  '_source': {'doc_id': '05f85413-d8cf-3dfa-b695-e5f5908d71a8',\n",
       "   'value': 'souvenir card silver jubilee show portrait king george queen mary frame view windsor'}}]"
      ]
     },
     "execution_count": 60,
     "metadata": {},
     "output_type": "execute_result"
    }
   ],
   "source": [
    "input_query = 'Give me all documents which are related to queen victoria'\n",
    "vectorised_query = model.encode(input_query)\n",
    "\n",
    "query = {\n",
    "    \"field\": \"DescriptionVector\",\n",
    "    \"query_vector\": vectorised_query,\n",
    "    \"k\": 5,\n",
    "    \"num_candidates\":500\n",
    "    \n",
    "\n",
    "}\n",
    "\n",
    "res = es.knn_search(index='odyssey', knn=query, source=[\"doc_id\", \"value\"])\n",
    "res['hits']['hits']"
   ]
  },
  {
   "cell_type": "code",
   "execution_count": 61,
   "metadata": {},
   "outputs": [
    {
     "data": {
      "text/html": [
       "<div>\n",
       "<style scoped>\n",
       "    .dataframe tbody tr th:only-of-type {\n",
       "        vertical-align: middle;\n",
       "    }\n",
       "\n",
       "    .dataframe tbody tr th {\n",
       "        vertical-align: top;\n",
       "    }\n",
       "\n",
       "    .dataframe thead th {\n",
       "        text-align: right;\n",
       "    }\n",
       "</style>\n",
       "<table border=\"1\" class=\"dataframe\">\n",
       "  <thead>\n",
       "    <tr style=\"text-align: right;\">\n",
       "      <th></th>\n",
       "      <th>doc_id</th>\n",
       "      <th>type</th>\n",
       "      <th>value</th>\n",
       "      <th>DescriptionVector</th>\n",
       "    </tr>\n",
       "  </thead>\n",
       "  <tbody>\n",
       "    <tr>\n",
       "      <th>0</th>\n",
       "      <td>a7bb9917-95ff-3f55-a640-4c5afcec25f2</td>\n",
       "      <td>description</td>\n",
       "      <td>east corner queen victoria road junction easto...</td>\n",
       "      <td>[0.0010302312, -0.023901274, 0.01724779, 0.049...</td>\n",
       "    </tr>\n",
       "    <tr>\n",
       "      <th>1</th>\n",
       "      <td>c29a7b77-7c46-3b85-88fe-05c8f4b2e384</td>\n",
       "      <td>description</td>\n",
       "      <td>page bucks free press time capsule 7th july 18...</td>\n",
       "      <td>[-0.01174476, 0.020760344, 0.0038109133, 0.004...</td>\n",
       "    </tr>\n",
       "    <tr>\n",
       "      <th>2</th>\n",
       "      <td>196c11e6-f7b6-392f-ae41-28653345087c</td>\n",
       "      <td>description</td>\n",
       "      <td>new police station high wycombe view opposite ...</td>\n",
       "      <td>[-0.002487674, 0.0084320465, 0.0564526, 0.0341...</td>\n",
       "    </tr>\n",
       "    <tr>\n",
       "      <th>3</th>\n",
       "      <td>7a5aace6-2398-3dcf-8843-37ff6ccea875</td>\n",
       "      <td>description</td>\n",
       "      <td>corridor entrance reference library</td>\n",
       "      <td>[0.00631654, 0.0067037106, -0.006011956, 0.020...</td>\n",
       "    </tr>\n",
       "    <tr>\n",
       "      <th>4</th>\n",
       "      <td>c66c4715-c03a-3aab-964b-e733f3ff1cf4</td>\n",
       "      <td>description</td>\n",
       "      <td>terrace brick flint cottage</td>\n",
       "      <td>[-0.057990633, -0.028714327, 0.003651726, 0.02...</td>\n",
       "    </tr>\n",
       "  </tbody>\n",
       "</table>\n",
       "</div>"
      ],
      "text/plain": [
       "                                 doc_id         type  \\\n",
       "0  a7bb9917-95ff-3f55-a640-4c5afcec25f2  description   \n",
       "1  c29a7b77-7c46-3b85-88fe-05c8f4b2e384  description   \n",
       "2  196c11e6-f7b6-392f-ae41-28653345087c  description   \n",
       "3  7a5aace6-2398-3dcf-8843-37ff6ccea875  description   \n",
       "4  c66c4715-c03a-3aab-964b-e733f3ff1cf4  description   \n",
       "\n",
       "                                               value  \\\n",
       "0  east corner queen victoria road junction easto...   \n",
       "1  page bucks free press time capsule 7th july 18...   \n",
       "2  new police station high wycombe view opposite ...   \n",
       "3                corridor entrance reference library   \n",
       "4                        terrace brick flint cottage   \n",
       "\n",
       "                                   DescriptionVector  \n",
       "0  [0.0010302312, -0.023901274, 0.01724779, 0.049...  \n",
       "1  [-0.01174476, 0.020760344, 0.0038109133, 0.004...  \n",
       "2  [-0.002487674, 0.0084320465, 0.0564526, 0.0341...  \n",
       "3  [0.00631654, 0.0067037106, -0.006011956, 0.020...  \n",
       "4  [-0.057990633, -0.028714327, 0.003651726, 0.02...  "
      ]
     },
     "execution_count": 61,
     "metadata": {},
     "output_type": "execute_result"
    }
   ],
   "source": [
    "df.head()"
   ]
  },
  {
   "cell_type": "code",
   "execution_count": null,
   "metadata": {},
   "outputs": [],
   "source": []
  }
 ],
 "metadata": {
  "kernelspec": {
   "display_name": "venv",
   "language": "python",
   "name": "python3"
  },
  "language_info": {
   "codemirror_mode": {
    "name": "ipython",
    "version": 3
   },
   "file_extension": ".py",
   "mimetype": "text/x-python",
   "name": "python",
   "nbconvert_exporter": "python",
   "pygments_lexer": "ipython3",
   "version": "3.10.0"
  }
 },
 "nbformat": 4,
 "nbformat_minor": 2
}
