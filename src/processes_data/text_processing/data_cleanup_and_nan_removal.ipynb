{
 "cells": [
  {
   "cell_type": "markdown",
   "metadata": {},
   "source": [
    "# Data Cleaning\n",
    "\n",
    "This notebook cleans the dataset by removing NaN values and filtering out URLs and other irrelevant content."
   ]
  },
  {
   "cell_type": "code",
   "execution_count": 1,
   "metadata": {},
   "outputs": [],
   "source": [
    "import pandas as pd\n",
    "\n",
    "input_file_path = '/Users/thebekhruz/Desktop/100Days-Of-Code/100-Days-of-NLP-Odyssey/data/raw/swop_triples.csv'\n",
    "output_file_path = '/Users/thebekhruz/Desktop/100Days-Of-Code/100-Days-of-NLP-Odyssey/data/intermediate/swop_triples_cleaned.csv'\n"
   ]
  },
  {
   "cell_type": "markdown",
   "metadata": {},
   "source": [
    "## Initial Data Exploration:"
   ]
  },
  {
   "cell_type": "code",
   "execution_count": 2,
   "metadata": {},
   "outputs": [
    {
     "name": "stdout",
     "output_type": "stream",
     "text": [
      "(169958, 3)\n"
     ]
    }
   ],
   "source": [
    "df = pd.read_csv(input_file_path, delimiter='\\t', header=None, names=['doc_id', 'type', 'value'])\n",
    "print(df.shape)"
   ]
  },
  {
   "cell_type": "markdown",
   "metadata": {},
   "source": [
    "After exploration there only should be 3 unique values"
   ]
  },
  {
   "cell_type": "code",
   "execution_count": 3,
   "metadata": {},
   "outputs": [
    {
     "name": "stdout",
     "output_type": "stream",
     "text": [
      "['title' 'description' 'mentions' 'tanc:became' 'tanc:showing'\n",
      " 'tanc:gardens' 'tanc:surrounded' 'tanc:built' 'tanc:viewed' nan\n",
      " 'tanc:displayed' 'tanc:inviting' 'tanc:used_to_carry' 'tanc:standing'\n",
      " 'tanc:showing_shelving' 'tanc:setting' 'tanc:opened' 'tanc:known'\n",
      " 'tanc:presented' 'tanc:signing' 'tanc:speaking' 'tanc:watch'\n",
      " 'tanc:helping' 'tanc:visiting' 'tanc:including' 'tanc:sponsored'\n",
      " 'tanc:fought' 'tanc:stands' 'tanc:preparing_to_take' 'tanc:seen'\n",
      " 'tanc:gives' 'tanc:came_to_give' 'tanc:also' 'tanc:watched' 'tanc:set'\n",
      " 'tanc:sold' 'tanc:shows' 'tanc:succeeded' 'tanc:flanked' 'tanc:pulling'\n",
      " 'tanc:got' 'tanc:having' 'tanc:posing' 'tanc:operating' 'tanc:lists'\n",
      " 'tanc:put' 'tanc:enter' 'tanc:sitting' 'tanc:in_comparison'\n",
      " 'tanc:brides_to_leave' 'tanc:bought' 'tanc:giving' 'tanc:joined'\n",
      " 'tanc:handing' 'tanc:moved' 'tanc:connects' 'tanc:give' 'tanc:putting'\n",
      " 'tanc:dates' 'tanc:restored' 'tanc:situated' 'tanc:entertaining'\n",
      " 'tanc:holding' 'tanc:starring' 'tanc:just' 'tanc:parked' 'tanc:acquired'\n",
      " 'tanc:featuring' 'tanc:emigrated' 'tanc:raise' 'tanc:containing'\n",
      " 'tanc:converted' 'tanc:includes' 'tanc:followed' 'tanc:replaced'\n",
      " 'tanc:remembers' 'tanc:proceeding' 'tanc:composed' 'tanc:taken'\n",
      " 'tanc:flying' 'tanc:wearing' 'tanc:used' 'tanc:organised' 'tanc:attended'\n",
      " 'tanc:briefed' 'tanc:involved' 'tanc:combined_to_celebrate' 'tanc:lost'\n",
      " 'tanc:sent' 'tanc:recruited' 'tanc:destined' 'tanc:participating'\n",
      " 'tanc:celebrate' 'tanc:demonstrating' 'tanc:staged' 'tanc:headlined'\n",
      " 'tanc:provided' 'tanc:won' 'tanc:included' 'tanc:finished'\n",
      " 'tanc:enjoying' 'tanc:opened_to_sell' 'tanc:queueing_to_experience'\n",
      " 'tanc:served' 'tanc:receives' 'tanc:held' 'tanc:introduced' 'tanc:named'\n",
      " 'tanc:took' 'tanc:works' 'tanc:teeing' 'tanc:purchased' 'tanc:handed'\n",
      " 'tanc:depicting' 'tanc:building' 'tanc:receiving' 'tanc:addressing'\n",
      " 'tanc:match' 'tanc:studying' 'tanc:stand' 'tanc:acknowledging'\n",
      " 'tanc:hoping' 'tanc:beat' 'tanc:described' 'tanc:distributing'\n",
      " 'tanc:talking' 'tanc:looking' 'tanc:hosted' 'tanc:dedicated'\n",
      " 'tanc:pictured' 'tanc:awarded' 'tanc:inspecting' 'tanc:opening'\n",
      " 'tanc:watching' 'tanc:marked' 'tanc:treated' 'tanc:electioneering'\n",
      " 'tanc:presenting' 'tanc:manning' 'tanc:attracted' 'tanc:queuing_to_board'\n",
      " 'tanc:trying' 'tanc:covering' 'tanc:undergoing' 'tanc:reach'\n",
      " 'tanc:placed' 'tanc:entered' 'tanc:advertised' 'tanc:admiring'\n",
      " 'tanc:requested_to_see' 'tanc:read' 'tanc:demonstrates' 'tanc:formed'\n",
      " 'tanc:returned' 'tanc:allowed' 'tanc:awaiting' 'tanc:performing'\n",
      " 'tanc:show' 'tanc:powered' 'tanc:invaded' 'tanc:occupied' 'tanc:using'\n",
      " 'tanc:posed' 'tanc:decorated' 'tanc:Wanderers' 'tanc:shown'\n",
      " 'tanc:driving' 'tanc:engaged' 'tanc:pose' 'tanc:commemorated'\n",
      " 'tanc:enlisted' 'tanc:appointed' 'tanc:attached' 'tanc:bearing'\n",
      " 'tanc:nicknamed' 'tanc:making' 'tanc:deliver' 'tanc:mark'\n",
      " 'tanc:travelled' 'tanc:visited' 'tanc:showed' 'tanc:fight'\n",
      " 'tanc:earmarked' 'tanc:promoting' 'tanc:preparing' 'tanc:marching'\n",
      " 'tanc:received' 'tanc:pictured_enjoying' 'tanc:arranged'\n",
      " 'tanc:specialised' 'tanc:reported_to_include' 'tanc:donated'\n",
      " 'tanc:become' 'tanc:hauling' 'tanc:erected' 'tanc:addressed'\n",
      " 'tanc:moving' 'tanc:investigating' 'tanc:played' 'tanc:revealed'\n",
      " 'tanc:playing' 'tanc:arrived' 'tanc:most_widely' 'tanc:provide'\n",
      " 'tanc:entertained' 'tanc:getting' 'tanc:emerging' 'tanc:held_to_raise'\n",
      " 'tanc:leave' 'tanc:joins' 'tanc:seen_left' 'tanc:carrying' 'tanc:leaving'\n",
      " 'tanc:laying' 'tanc:commemorating' 'tanc:ended' 'tanc:accessed'\n",
      " 'tanc:add' 'tanc:commemorates' 'tanc:relocated' 'tanc:owned'\n",
      " 'tanc:dominate' 'tanc:pulls' 'tanc:held_to_celebrate' 'tanc:remains'\n",
      " 'tanc:entering' 'tanc:resulted' 'tanc:attacking' 'tanc:approaching'\n",
      " 'tanc:heading' 'tanc:passing' 'tanc:following' 'tanc:scoring'\n",
      " 'tanc:relates' 'tanc:left' 'tanc:rehearsing'\n",
      " 'tanc:preparing_to_distribute' 'tanc:threatening' 'tanc:defeated'\n",
      " 'tanc:had' 'tanc:represented_including' 'tanc:judged' 'tanc:conducting'\n",
      " 'tanc:stars' 'tanc:opens' 'tanc:leading' 'tanc:celebrating'\n",
      " 'tanc:parading' 'tanc:protesting' 'tanc:protest' 'tanc:encroaching'\n",
      " 'tanc:gain' 'tanc:transferred' 'tanc:dancing' 'tanc:singing']\n"
     ]
    }
   ],
   "source": [
    "#\n",
    "print(df['type'].unique())\n",
    " "
   ]
  },
  {
   "cell_type": "markdown",
   "metadata": {},
   "source": [
    "169,958 entries and 3 types of data. "
   ]
  },
  {
   "cell_type": "code",
   "execution_count": 4,
   "metadata": {},
   "outputs": [
    {
     "data": {
      "text/plain": [
       "doc_id  type   value\n",
       "False   False  False    168896\n",
       "               True        574\n",
       "        True   True        488\n",
       "Name: count, dtype: int64"
      ]
     },
     "execution_count": 4,
     "metadata": {},
     "output_type": "execute_result"
    }
   ],
   "source": [
    "df.isna().value_counts()"
   ]
  },
  {
   "cell_type": "markdown",
   "metadata": {},
   "source": [
    "- 168,896, records have no missing values across all three columns (doc_id, type, value).\n",
    "- 574 records where doc_id and type are present, but value is missing (NaN)\n",
    "- 488 records are missing both type and value, with only the doc_id being present."
   ]
  },
  {
   "cell_type": "code",
   "execution_count": 5,
   "metadata": {},
   "outputs": [
    {
     "name": "stdout",
     "output_type": "stream",
     "text": [
      "<class 'pandas.core.frame.DataFrame'>\n",
      "RangeIndex: 169958 entries, 0 to 169957\n",
      "Data columns (total 3 columns):\n",
      " #   Column  Non-Null Count   Dtype \n",
      "---  ------  --------------   ----- \n",
      " 0   doc_id  169958 non-null  object\n",
      " 1   type    169470 non-null  object\n",
      " 2   value   168896 non-null  object\n",
      "dtypes: object(3)\n",
      "memory usage: 3.9+ MB\n",
      "None\n"
     ]
    }
   ],
   "source": [
    "print(df.info())"
   ]
  },
  {
   "cell_type": "markdown",
   "metadata": {},
   "source": [
    "## Filtering rows with NaN"
   ]
  },
  {
   "cell_type": "code",
   "execution_count": 6,
   "metadata": {},
   "outputs": [
    {
     "data": {
      "text/html": [
       "<div>\n",
       "<style scoped>\n",
       "    .dataframe tbody tr th:only-of-type {\n",
       "        vertical-align: middle;\n",
       "    }\n",
       "\n",
       "    .dataframe tbody tr th {\n",
       "        vertical-align: top;\n",
       "    }\n",
       "\n",
       "    .dataframe thead th {\n",
       "        text-align: right;\n",
       "    }\n",
       "</style>\n",
       "<table border=\"1\" class=\"dataframe\">\n",
       "  <thead>\n",
       "    <tr style=\"text-align: right;\">\n",
       "      <th></th>\n",
       "      <th>doc_id</th>\n",
       "      <th>type</th>\n",
       "      <th>value</th>\n",
       "    </tr>\n",
       "  </thead>\n",
       "  <tbody>\n",
       "    <tr>\n",
       "      <th>1187</th>\n",
       "      <td>This view shows the third and final phase of t...</td>\n",
       "      <td>NaN</td>\n",
       "      <td>NaN</td>\n",
       "    </tr>\n",
       "    <tr>\n",
       "      <th>1726</th>\n",
       "      <td>The foundation stone was laid by the Chairman ...</td>\n",
       "      <td>NaN</td>\n",
       "      <td>NaN</td>\n",
       "    </tr>\n",
       "    <tr>\n",
       "      <th>2446</th>\n",
       "      <td>The same event is shown in BFP01772</td>\n",
       "      <td>NaN</td>\n",
       "      <td>NaN</td>\n",
       "    </tr>\n",
       "    <tr>\n",
       "      <th>3079</th>\n",
       "      <td>This is likely to be The Crown at Wheeler End ...</td>\n",
       "      <td>NaN</td>\n",
       "      <td>NaN</td>\n",
       "    </tr>\n",
       "    <tr>\n",
       "      <th>3282</th>\n",
       "      <td>The group was started by the Holmer Green Wome...</td>\n",
       "      <td>NaN</td>\n",
       "      <td>NaN</td>\n",
       "    </tr>\n",
       "    <tr>\n",
       "      <th>3646</th>\n",
       "      <td>59f99c46-3663-3740-ac46-2e9479a773ab</td>\n",
       "      <td>description</td>\n",
       "      <td>NaN</td>\n",
       "    </tr>\n",
       "    <tr>\n",
       "      <th>3683</th>\n",
       "      <td>The man and woman on the outside are Donald an...</td>\n",
       "      <td>NaN</td>\n",
       "      <td>NaN</td>\n",
       "    </tr>\n",
       "    <tr>\n",
       "      <th>3684</th>\n",
       "      <td>Accompanying them are Gwen and Sidney Hall. He...</td>\n",
       "      <td>NaN</td>\n",
       "      <td>NaN</td>\n",
       "    </tr>\n",
       "    <tr>\n",
       "      <th>3685</th>\n",
       "      <td>They were all at a party given by Sir Francis ...</td>\n",
       "      <td>NaN</td>\n",
       "      <td>NaN</td>\n",
       "    </tr>\n",
       "    <tr>\n",
       "      <th>3970</th>\n",
       "      <td>Although the event took place in West Wycombe,...</td>\n",
       "      <td>NaN</td>\n",
       "      <td>NaN</td>\n",
       "    </tr>\n",
       "  </tbody>\n",
       "</table>\n",
       "</div>"
      ],
      "text/plain": [
       "                                                 doc_id         type value\n",
       "1187  This view shows the third and final phase of t...          NaN   NaN\n",
       "1726  The foundation stone was laid by the Chairman ...          NaN   NaN\n",
       "2446                The same event is shown in BFP01772          NaN   NaN\n",
       "3079  This is likely to be The Crown at Wheeler End ...          NaN   NaN\n",
       "3282  The group was started by the Holmer Green Wome...          NaN   NaN\n",
       "3646               59f99c46-3663-3740-ac46-2e9479a773ab  description   NaN\n",
       "3683  The man and woman on the outside are Donald an...          NaN   NaN\n",
       "3684  Accompanying them are Gwen and Sidney Hall. He...          NaN   NaN\n",
       "3685  They were all at a party given by Sir Francis ...          NaN   NaN\n",
       "3970  Although the event took place in West Wycombe,...          NaN   NaN"
      ]
     },
     "execution_count": 6,
     "metadata": {},
     "output_type": "execute_result"
    }
   ],
   "source": [
    "# Explore rows with NaN values\n",
    "rows_with_nan = df[df.isna().any(axis=1)]\n",
    "rows_with_nan.head(10)"
   ]
  },
  {
   "cell_type": "code",
   "execution_count": 7,
   "metadata": {},
   "outputs": [
    {
     "name": "stdout",
     "output_type": "stream",
     "text": [
      "Rows with NaN in doc_id:\n",
      "Empty DataFrame\n",
      "Columns: [doc_id, type, value]\n",
      "Index: []\n",
      "Rows with NaN in type:\n",
      "                                                   doc_id type value\n",
      "1187    This view shows the third and final phase of t...  NaN   NaN\n",
      "1726    The foundation stone was laid by the Chairman ...  NaN   NaN\n",
      "2446                  The same event is shown in BFP01772  NaN   NaN\n",
      "3079    This is likely to be The Crown at Wheeler End ...  NaN   NaN\n",
      "3282    The group was started by the Holmer Green Wome...  NaN   NaN\n",
      "...                                                   ...  ...   ...\n",
      "152444  The four children in the bottom right of the i...  NaN   NaN\n",
      "157305  This is one of a series of photos (BFP78468 to...  NaN   NaN\n",
      "159312                                  See also RHW31136  NaN   NaN\n",
      "159542                                 See also RHW31138.  NaN   NaN\n",
      "159586                                 See also RHW31138.  NaN   NaN\n",
      "\n",
      "[488 rows x 3 columns]\n",
      "Rows with NaN in value:\n",
      "                                                   doc_id         type value\n",
      "1187    This view shows the third and final phase of t...          NaN   NaN\n",
      "1726    The foundation stone was laid by the Chairman ...          NaN   NaN\n",
      "2446                  The same event is shown in BFP01772          NaN   NaN\n",
      "3079    This is likely to be The Crown at Wheeler End ...          NaN   NaN\n",
      "3282    The group was started by the Holmer Green Wome...          NaN   NaN\n",
      "...                                                   ...          ...   ...\n",
      "169365               02a27b90-45db-39d9-8e35-c7c61fe3b0af  description   NaN\n",
      "169386               04c6d627-f627-36ca-ba71-8fb13c44278c  description   NaN\n",
      "169554               95545d31-20b1-3684-b224-9319dc3bb703  description   NaN\n",
      "169679               436ca9d8-9afb-3346-9d29-029c51062330  description   NaN\n",
      "169912               286d8465-63f4-3d51-8659-24a053c739a0  description   NaN\n",
      "\n",
      "[1062 rows x 3 columns]\n"
     ]
    }
   ],
   "source": [
    "# in-depth analysis of NaN values\n",
    "for column in df.columns:\n",
    "    print(f\"Rows with NaN in {column}:\")\n",
    "    print(df[df[column].isna()])\n"
   ]
  },
  {
   "cell_type": "markdown",
   "metadata": {},
   "source": [
    "- The doc_id column has no rows with missing values.\n",
    "- The type column has 488 rows with missing values, where both type and value columns are NaN. These entries also include textual content in the doc_id column, suggesting a possible misalignment or data entry issue.\n",
    "- The value column has 1,062 rows with missing values. This includes the 488 rows where both type and value are missing, and an additional 574 rows where only value is missing, but doc_id and type are present."
   ]
  },
  {
   "cell_type": "markdown",
   "metadata": {},
   "source": [
    "# Identify and Handle Missing Values"
   ]
  },
  {
   "cell_type": "markdown",
   "metadata": {},
   "source": [
    "#### Remove 488 rows where both `type` and `value` columns are NaN"
   ]
  },
  {
   "cell_type": "code",
   "execution_count": 8,
   "metadata": {},
   "outputs": [
    {
     "name": "stdout",
     "output_type": "stream",
     "text": [
      "                                                 doc_id type value\n",
      "1187  This view shows the third and final phase of t...  NaN   NaN\n",
      "1726  The foundation stone was laid by the Chairman ...  NaN   NaN\n",
      "2446                The same event is shown in BFP01772  NaN   NaN\n",
      "3079  This is likely to be The Crown at Wheeler End ...  NaN   NaN\n",
      "3282  The group was started by the Holmer Green Wome...  NaN   NaN\n"
     ]
    }
   ],
   "source": [
    "# An example of a row where 'type' is NaN\n",
    "example_row_with_nan_type = df[df['type'].isna()].head(5)\n",
    "print(example_row_with_nan_type)"
   ]
  },
  {
   "cell_type": "markdown",
   "metadata": {},
   "source": [
    "> I am removing all rows where the doc_id is clearly a description that has no relation to any actual doc_id."
   ]
  },
  {
   "cell_type": "code",
   "execution_count": 9,
   "metadata": {},
   "outputs": [
    {
     "data": {
      "text/html": [
       "<div>\n",
       "<style scoped>\n",
       "    .dataframe tbody tr th:only-of-type {\n",
       "        vertical-align: middle;\n",
       "    }\n",
       "\n",
       "    .dataframe tbody tr th {\n",
       "        vertical-align: top;\n",
       "    }\n",
       "\n",
       "    .dataframe thead th {\n",
       "        text-align: right;\n",
       "    }\n",
       "</style>\n",
       "<table border=\"1\" class=\"dataframe\">\n",
       "  <thead>\n",
       "    <tr style=\"text-align: right;\">\n",
       "      <th></th>\n",
       "      <th>doc_id</th>\n",
       "      <th>type</th>\n",
       "      <th>value</th>\n",
       "    </tr>\n",
       "  </thead>\n",
       "  <tbody>\n",
       "    <tr>\n",
       "      <th>0</th>\n",
       "      <td>a7bb9917-95ff-3f55-a640-4c5afcec25f2</td>\n",
       "      <td>title</td>\n",
       "      <td>View towards SE of junction of Queen Victoria ...</td>\n",
       "    </tr>\n",
       "    <tr>\n",
       "      <th>1</th>\n",
       "      <td>a7bb9917-95ff-3f55-a640-4c5afcec25f2</td>\n",
       "      <td>description</td>\n",
       "      <td>E corner of Queen Victoria Rd at junction with...</td>\n",
       "    </tr>\n",
       "    <tr>\n",
       "      <th>2</th>\n",
       "      <td>a7bb9917-95ff-3f55-a640-4c5afcec25f2</td>\n",
       "      <td>mentions</td>\n",
       "      <td>https://www.wikidata.org/wiki/Q64116</td>\n",
       "    </tr>\n",
       "    <tr>\n",
       "      <th>3</th>\n",
       "      <td>a7bb9917-95ff-3f55-a640-4c5afcec25f2</td>\n",
       "      <td>mentions</td>\n",
       "      <td>https://www.wikidata.org/wiki/Q64116</td>\n",
       "    </tr>\n",
       "    <tr>\n",
       "      <th>4</th>\n",
       "      <td>c29a7b77-7c46-3b85-88fe-05c8f4b2e384</td>\n",
       "      <td>title</td>\n",
       "      <td>Front page of Bucks Free Press, Time capsule f...</td>\n",
       "    </tr>\n",
       "  </tbody>\n",
       "</table>\n",
       "</div>"
      ],
      "text/plain": [
       "                                 doc_id         type  \\\n",
       "0  a7bb9917-95ff-3f55-a640-4c5afcec25f2        title   \n",
       "1  a7bb9917-95ff-3f55-a640-4c5afcec25f2  description   \n",
       "2  a7bb9917-95ff-3f55-a640-4c5afcec25f2     mentions   \n",
       "3  a7bb9917-95ff-3f55-a640-4c5afcec25f2     mentions   \n",
       "4  c29a7b77-7c46-3b85-88fe-05c8f4b2e384        title   \n",
       "\n",
       "                                               value  \n",
       "0  View towards SE of junction of Queen Victoria ...  \n",
       "1  E corner of Queen Victoria Rd at junction with...  \n",
       "2               https://www.wikidata.org/wiki/Q64116  \n",
       "3               https://www.wikidata.org/wiki/Q64116  \n",
       "4  Front page of Bucks Free Press, Time capsule f...  "
      ]
     },
     "execution_count": 9,
     "metadata": {},
     "output_type": "execute_result"
    }
   ],
   "source": [
    "# Remove rows where `type` and `value` is NaN\n",
    "df.dropna(subset=['type'], inplace=True)\n",
    "df.head()"
   ]
  },
  {
   "cell_type": "code",
   "execution_count": 10,
   "metadata": {},
   "outputs": [
    {
     "name": "stdout",
     "output_type": "stream",
     "text": [
      "                                    doc_id         type value\n",
      "3646  59f99c46-3663-3740-ac46-2e9479a773ab  description   NaN\n",
      "8765  9ea24c7c-599f-32f7-a17e-cf2ad800fdf0  description   NaN\n",
      "8792  64e24ebb-a966-3298-a2f3-6684a0346f7a  description   NaN\n",
      "9141  3ac5ab74-d10e-37c6-ad2e-a9da9f33b77c  description   NaN\n",
      "9178  971934e5-a771-3739-a1ba-f1b4827874cf  description   NaN\n"
     ]
    }
   ],
   "source": [
    "# An example of a row where 'value' is NaN\n",
    "example_row_with_nan_value = df[df['value'].isna()].head(5)\n",
    "print(example_row_with_nan_value)"
   ]
  },
  {
   "cell_type": "markdown",
   "metadata": {},
   "source": [
    "> Sometimes the items in the dataset only contain titles and no description. We need to remove them."
   ]
  },
  {
   "cell_type": "code",
   "execution_count": 11,
   "metadata": {},
   "outputs": [],
   "source": [
    "# Replace NaN in description with an empty string\n",
    "df.fillna({'value': ''}, inplace=True)"
   ]
  },
  {
   "cell_type": "code",
   "execution_count": 12,
   "metadata": {},
   "outputs": [
    {
     "name": "stdout",
     "output_type": "stream",
     "text": [
      "doc_id    0\n",
      "type      0\n",
      "value     0\n",
      "dtype: int64\n"
     ]
    }
   ],
   "source": [
    "print(df.isna().sum())\n"
   ]
  },
  {
   "cell_type": "markdown",
   "metadata": {},
   "source": [
    "> The output indicates there are no missing values (NaN) across all columns (doc_id, type, value) in the DataFrame."
   ]
  },
  {
   "cell_type": "markdown",
   "metadata": {},
   "source": [
    "# Validate 'doc_id' Format"
   ]
  },
  {
   "cell_type": "code",
   "execution_count": 13,
   "metadata": {},
   "outputs": [
    {
     "name": "stdout",
     "output_type": "stream",
     "text": [
      "                                         doc_id              type  \\\n",
      "29         https://www.wikidata.org/wiki/Q64116       tanc:became   \n",
      "244        https://www.wikidata.org/wiki/Q19695      tanc:showing   \n",
      "357     https://www.wikidata.org/wiki/Q12823105      tanc:gardens   \n",
      "382      https://www.wikidata.org/wiki/Q8039639      tanc:showing   \n",
      "561        https://www.wikidata.org/wiki/Q64116   tanc:surrounded   \n",
      "...                                         ...               ...   \n",
      "169200   https://www.wikidata.org/wiki/Q1541030         tanc:gain   \n",
      "169421       https://www.wikidata.org/wiki/Q222  tanc:transferred   \n",
      "169662   https://www.wikidata.org/wiki/Q5378261      tanc:dancing   \n",
      "169776   https://www.wikidata.org/wiki/Q8039639      tanc:singing   \n",
      "169954   https://www.wikidata.org/wiki/Q5378261      tanc:dancing   \n",
      "\n",
      "                                         value  \n",
      "29      https://www.wikidata.org/wiki/Q8034980  \n",
      "244       https://www.wikidata.org/wiki/Q64116  \n",
      "357     https://www.wikidata.org/wiki/Q3400528  \n",
      "382      https://www.wikidata.org/wiki/Q108325  \n",
      "561      https://www.wikidata.org/wiki/Q317557  \n",
      "...                                        ...  \n",
      "169200  https://www.wikidata.org/wiki/Q1541030  \n",
      "169421   https://www.wikidata.org/wiki/Q678371  \n",
      "169662  https://www.wikidata.org/wiki/Q1981760  \n",
      "169776  https://www.wikidata.org/wiki/Q8039639  \n",
      "169954  https://www.wikidata.org/wiki/Q1981760  \n",
      "\n",
      "[993 rows x 3 columns]\n",
      "Count of doc_id values not matching UUID format: 993\n"
     ]
    }
   ],
   "source": [
    "uuid_regex = r'^[0-9a-fA-F]{8}-[0-9a-fA-F]{4}-[0-9a-fA-F]{4}-[0-9a-fA-F]{4}-[0-9a-fA-F]{12}$'\n",
    "\n",
    "# Use str.match to check each doc_id against the UUID regex\n",
    "matches_uuid_format = df['doc_id'].str.match(uuid_regex)\n",
    "not_matching = df[~matches_uuid_format]\n",
    "print(not_matching)\n",
    "\n",
    "\n",
    "# To get a count of how many doc_id values do not match the UUID format\n",
    "not_matching_count = not_matching.shape[0]\n",
    "print(f\"Count of doc_id values not matching UUID format: {not_matching_count}\")"
   ]
  },
  {
   "cell_type": "markdown",
   "metadata": {},
   "source": [
    "> There are 993 doc_id values in the DataFrame that do not match the UUID format specified by the regex pattern. "
   ]
  },
  {
   "cell_type": "code",
   "execution_count": 14,
   "metadata": {},
   "outputs": [
    {
     "name": "stdout",
     "output_type": "stream",
     "text": [
      "(168477, 3)\n"
     ]
    }
   ],
   "source": [
    "# Remove fields in doc_id which are not in the form of UUID\n",
    "df = df[matches_uuid_format]\n",
    "\n",
    "# Check the updated DataFrame\n",
    "print(df.shape)\n"
   ]
  },
  {
   "cell_type": "code",
   "execution_count": 15,
   "metadata": {},
   "outputs": [
    {
     "name": "stdout",
     "output_type": "stream",
     "text": [
      "['title' 'description' 'mentions']\n"
     ]
    }
   ],
   "source": [
    "print(df['type'].unique())\n"
   ]
  },
  {
   "cell_type": "markdown",
   "metadata": {},
   "source": [
    "As mentioned above only 3 unique values and therefore clean data. "
   ]
  },
  {
   "cell_type": "markdown",
   "metadata": {},
   "source": [
    "### Export Cleaned Data"
   ]
  },
  {
   "cell_type": "code",
   "execution_count": 16,
   "metadata": {},
   "outputs": [],
   "source": [
    "df.to_csv(output_file_path, sep='\\t', index=False, header=None)\n"
   ]
  }
 ],
 "metadata": {
  "kernelspec": {
   "display_name": "venv",
   "language": "python",
   "name": "python3"
  },
  "language_info": {
   "codemirror_mode": {
    "name": "ipython",
    "version": 3
   },
   "file_extension": ".py",
   "mimetype": "text/x-python",
   "name": "python",
   "nbconvert_exporter": "python",
   "pygments_lexer": "ipython3",
   "version": "3.10.0"
  }
 },
 "nbformat": 4,
 "nbformat_minor": 2
}
