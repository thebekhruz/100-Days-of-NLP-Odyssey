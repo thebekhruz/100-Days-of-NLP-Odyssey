{
 "cells": [
  {
   "cell_type": "markdown",
   "metadata": {},
   "source": [
    "\n",
    "# Abbreviation Exploration\n",
    "Created to investigate abbreviation handling strategies, as well as **apostrophe handling strategies**. \n",
    "\n",
    "Now deprecated. Date: 2024-02-20"
   ]
  },
  {
   "cell_type": "code",
   "execution_count": 14,
   "metadata": {},
   "outputs": [],
   "source": [
    "import re"
   ]
  },
  {
   "cell_type": "code",
   "execution_count": 15,
   "metadata": {},
   "outputs": [],
   "source": [
    "ABBREVIATION_EXPANSIONS = {\n",
    "    # Geographical:\n",
    "    \"PH\": \"Public house\",\n",
    "    \"R.Wye\": \"River Wye\",\n",
    "    \"HW\": \"High Wycombe\",\n",
    "    \"HQ\": \"Headquarters\",\n",
    "    \"HDC\": \"High Wycombe District Council\",\n",
    "    # Historical and Military:\n",
    "    \"W.R.A.F.\": \"Women's Royal Air Force.\",\n",
    "    \"V.E.Day\": \"Victory in Europe Day\", 'VE Day': \"Victory in Europe Day\",\n",
    "    \"WWI\": \"First World War\",\n",
    "    \"WWII\": \"Second World War\",\n",
    "    \"RAF\": \"Royal Air Force\",\n",
    "    \"HMS\": \"Her Majesty's Ship\",\n",
    "    \"HRH\": \"His Royal Highness\",\n",
    "    \"MP\": \"Member of Parliament\",\n",
    "    \"BFP\": \"Bucks Free Press\",\n",
    "    \"VJ Day\": \"Victory over Japan Day\", \"VJ-day\": \"Victory over Japan Day\",\n",
    "    # Compass directions\n",
    "    \"N\": \"North\",\n",
    "    \"S\": \"South\",\n",
    "    \"E\": \"East\",\n",
    "    \"W\": \"West\",\n",
    "    \"NE\": \"Northeast\",\n",
    "    \"NW\": \"Northwest\",\n",
    "    \"SE\": \"Southeast\",\n",
    "    \"SW\": \"Southwest\",\n",
    "    \"NNE\": \"North-Northeast\",\n",
    "    \"ENE\": \"East-Northeast\",\n",
    "    \"ESE\": \"East-Southeast\",\n",
    "    \"SSE\": \"South-Southeast\",\n",
    "    \"SSW\": \"South-Southwest\",\n",
    "    \"WSW\": \"West-Southwest\",\n",
    "    \"WNW\": \"West-Northwest\",\n",
    "    \"NNW\": \"North-Northwest\",\n",
    "    # Street Names\n",
    "    \"St\": \"Street\",\n",
    "    \"Rd\": \"Road\",\n",
    "    \"Ave\": \"Avenue\",\n",
    "    \"Dr\": \"Drive\",\n",
    "    \"Ln\": \"Lane\",\n",
    "    \"Ct\": \"Court\",\n",
    "    \"Sq\": \"Square\",\n",
    "    # Dates\n",
    "    \"c.\": \"circa\", \"c\" : \"circa\",\n",
    "    \"Mon.\": \"Monday \", \"Mon\": \"Monday\",\n",
    "    \"Tue.\": \"Tuesday \", \"Tue\": \"Tuesday\",\n",
    "    \"Wed.\": \"Wednesday \", \"Wed\": \"Wednesday\",\n",
    "    \"Thu.\": \"Thursday \", \"Thu\": \"Thursday\",\n",
    "    \"Fri.\": \"Friday \", \"Fri\": \"Friday\",\n",
    "    \"Sat.\": \"Saturday \", \"Sat\": \"Saturday\",\n",
    "    \"Sun.\": \"Sunday \", \"Sun\": \"Sunday\",\n",
    "    \"Jan.\": \"January \", \"Jan\": \"January \",\n",
    "    \"Feb.\": \"February \", \"Feb\": \"February\",\n",
    "    \"Mar.\": \"March \", \"Mar\": \"March\",\n",
    "    \"Apr.\": \"April \", \"Apr\": \"April\",\n",
    "    \"May\": \"May\",\n",
    "    \"Jun.\": \"June \", \"Jun\": \"June\",\n",
    "    \"Jul.\": \"July \", \"Jul\": \"July\",\n",
    "    \"Aug.\": \"August \", \"Aug\": \"August\",\n",
    "    \"Sep.\": \"September \", \"Sep\": \"September \", \"Sept.\": \"September \", \"Sept\": \"September \",\n",
    "    \"Oct.\": \"October \", \"Oct\": \"October\",\n",
    "    \"Nov.\": \"November \", \"Nov\": \"November\",\n",
    "    \"Dec.\": \"December \", \"Dec\": \"December\",\n",
    "    # Other\n",
    "    \"FC\": \"Football Club\"\n",
    "\n",
    "    # Extend this list as needed\n",
    "}\n"
   ]
  },
  {
   "cell_type": "code",
   "execution_count": 4,
   "metadata": {},
   "outputs": [],
   "source": [
    "def expand_abbreviations(text):\n",
    "    \"\"\"Replace abbreviations in the text with their expanded forms.\"\"\"\n",
    "    for abbr, expansion in ABBREVIATION_EXPANSIONS.items():\n",
    "        pattern = r'\\b' + re.escape(abbr) + r'\\b(?![\\'’])'\n",
    "        text = re.sub(pattern, expansion, text, flags=re.IGNORECASE)\n",
    "    return text"
   ]
  },
  {
   "cell_type": "code",
   "execution_count": 1,
   "metadata": {},
   "outputs": [
    {
     "name": "stdout",
     "output_type": "stream",
     "text": [
      "Looking East from the Guildhall a view of the N side of the High St High Wycombe 1890\n"
     ]
    }
   ],
   "source": [
    "import re\n",
    "\n",
    "# Assuming APOSTROPHE_PATTERN and BRACKET_PATTERN are defined as before\n",
    "APOSTROPHE_PATTERN = re.compile(r\"[^\\w\\d\\s]+\")\n",
    "BRACKET_PATTERN = re.compile(r\"\\[|\\]\")\n",
    "NUMBER_WITH_S_PATTERN = re.compile(r\"\\b(\\d+)s\\b\")\n",
    "\n",
    "def clean_text(text):\n",
    "    \"\"\"Clean a single text string by removing apostrophes, brackets, and trailing 's' in numbers.\"\"\"\n",
    "    text = APOSTROPHE_PATTERN.sub(\"\", text)\n",
    "    text = NUMBER_WITH_S_PATTERN.sub(r\"\\1\", text)  # Replace with the captured number, removing the 's'\n",
    "    text = BRACKET_PATTERN.sub(\" \", text)\n",
    "    return text\n",
    "\n",
    "doc_eg = \"Looking East from the Guildhall, a view of the N side of the High St, High Wycombe. 1890s?\"\n",
    "print(clean_text(doc_eg))\n"
   ]
  }
 ],
 "metadata": {
  "kernelspec": {
   "display_name": "venv",
   "language": "python",
   "name": "python3"
  },
  "language_info": {
   "codemirror_mode": {
    "name": "ipython",
    "version": 3
   },
   "file_extension": ".py",
   "mimetype": "text/x-python",
   "name": "python",
   "nbconvert_exporter": "python",
   "pygments_lexer": "ipython3",
   "version": "3.10.0"
  }
 },
 "nbformat": 4,
 "nbformat_minor": 2
}
