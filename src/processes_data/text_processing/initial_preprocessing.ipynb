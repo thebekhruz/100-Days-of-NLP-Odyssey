{
 "cells": [
  {
   "cell_type": "code",
   "execution_count": 1,
   "metadata": {},
   "outputs": [],
   "source": [
    "import pandas as pd\n",
    "\n",
    "input_file_path = '/Users/thebekhruz/Desktop/100Days-Of-Code/100-Days-of-NLP-Odyssey/data/raw/swop_triples.csv'\n",
    "output_file_path = '/Users/thebekhruz/Desktop/100Days-Of-Code/100-Days-of-NLP-Odyssey/data/intermediate/swop_triples_cleaned.csv'\n"
   ]
  },
  {
   "cell_type": "markdown",
   "metadata": {},
   "source": [
    "# Initial Data Exploration🔍:\n",
    "**Explore dataset shape, information, and NaN values.**\n"
   ]
  },
  {
   "cell_type": "code",
   "execution_count": 2,
   "metadata": {},
   "outputs": [],
   "source": [
    "df = pd.read_csv(input_file_path, delimiter='\\t', header=None, names=['doc_id', 'type', 'value'])\n",
    "\n"
   ]
  },
  {
   "cell_type": "code",
   "execution_count": 3,
   "metadata": {},
   "outputs": [
    {
     "name": "stdout",
     "output_type": "stream",
     "text": [
      "(169958, 3)\n"
     ]
    }
   ],
   "source": [
    "print(df.shape)"
   ]
  },
  {
   "cell_type": "code",
   "execution_count": 4,
   "metadata": {},
   "outputs": [
    {
     "data": {
      "text/plain": [
       "doc_id  type   value\n",
       "False   False  False    168896\n",
       "               True        574\n",
       "        True   True        488\n",
       "Name: count, dtype: int64"
      ]
     },
     "execution_count": 4,
     "metadata": {},
     "output_type": "execute_result"
    }
   ],
   "source": [
    "df.isna().value_counts()"
   ]
  },
  {
   "cell_type": "code",
   "execution_count": 5,
   "metadata": {},
   "outputs": [
    {
     "name": "stdout",
     "output_type": "stream",
     "text": [
      "<class 'pandas.core.frame.DataFrame'>\n",
      "RangeIndex: 169958 entries, 0 to 169957\n",
      "Data columns (total 3 columns):\n",
      " #   Column  Non-Null Count   Dtype \n",
      "---  ------  --------------   ----- \n",
      " 0   doc_id  169958 non-null  object\n",
      " 1   type    169470 non-null  object\n",
      " 2   value   168896 non-null  object\n",
      "dtypes: object(3)\n",
      "memory usage: 3.9+ MB\n",
      "None\n"
     ]
    }
   ],
   "source": [
    "print(df.info())"
   ]
  },
  {
   "cell_type": "code",
   "execution_count": 6,
   "metadata": {},
   "outputs": [
    {
     "data": {
      "text/html": [
       "<div>\n",
       "<style scoped>\n",
       "    .dataframe tbody tr th:only-of-type {\n",
       "        vertical-align: middle;\n",
       "    }\n",
       "\n",
       "    .dataframe tbody tr th {\n",
       "        vertical-align: top;\n",
       "    }\n",
       "\n",
       "    .dataframe thead th {\n",
       "        text-align: right;\n",
       "    }\n",
       "</style>\n",
       "<table border=\"1\" class=\"dataframe\">\n",
       "  <thead>\n",
       "    <tr style=\"text-align: right;\">\n",
       "      <th></th>\n",
       "      <th>doc_id</th>\n",
       "      <th>type</th>\n",
       "      <th>value</th>\n",
       "    </tr>\n",
       "  </thead>\n",
       "  <tbody>\n",
       "    <tr>\n",
       "      <th>1187</th>\n",
       "      <td>This view shows the third and final phase of t...</td>\n",
       "      <td>NaN</td>\n",
       "      <td>NaN</td>\n",
       "    </tr>\n",
       "    <tr>\n",
       "      <th>1726</th>\n",
       "      <td>The foundation stone was laid by the Chairman ...</td>\n",
       "      <td>NaN</td>\n",
       "      <td>NaN</td>\n",
       "    </tr>\n",
       "    <tr>\n",
       "      <th>2446</th>\n",
       "      <td>The same event is shown in BFP01772</td>\n",
       "      <td>NaN</td>\n",
       "      <td>NaN</td>\n",
       "    </tr>\n",
       "    <tr>\n",
       "      <th>3079</th>\n",
       "      <td>This is likely to be The Crown at Wheeler End ...</td>\n",
       "      <td>NaN</td>\n",
       "      <td>NaN</td>\n",
       "    </tr>\n",
       "    <tr>\n",
       "      <th>3282</th>\n",
       "      <td>The group was started by the Holmer Green Wome...</td>\n",
       "      <td>NaN</td>\n",
       "      <td>NaN</td>\n",
       "    </tr>\n",
       "    <tr>\n",
       "      <th>3646</th>\n",
       "      <td>59f99c46-3663-3740-ac46-2e9479a773ab</td>\n",
       "      <td>description</td>\n",
       "      <td>NaN</td>\n",
       "    </tr>\n",
       "    <tr>\n",
       "      <th>3683</th>\n",
       "      <td>The man and woman on the outside are Donald an...</td>\n",
       "      <td>NaN</td>\n",
       "      <td>NaN</td>\n",
       "    </tr>\n",
       "    <tr>\n",
       "      <th>3684</th>\n",
       "      <td>Accompanying them are Gwen and Sidney Hall. He...</td>\n",
       "      <td>NaN</td>\n",
       "      <td>NaN</td>\n",
       "    </tr>\n",
       "    <tr>\n",
       "      <th>3685</th>\n",
       "      <td>They were all at a party given by Sir Francis ...</td>\n",
       "      <td>NaN</td>\n",
       "      <td>NaN</td>\n",
       "    </tr>\n",
       "    <tr>\n",
       "      <th>3970</th>\n",
       "      <td>Although the event took place in West Wycombe,...</td>\n",
       "      <td>NaN</td>\n",
       "      <td>NaN</td>\n",
       "    </tr>\n",
       "  </tbody>\n",
       "</table>\n",
       "</div>"
      ],
      "text/plain": [
       "                                                 doc_id         type value\n",
       "1187  This view shows the third and final phase of t...          NaN   NaN\n",
       "1726  The foundation stone was laid by the Chairman ...          NaN   NaN\n",
       "2446                The same event is shown in BFP01772          NaN   NaN\n",
       "3079  This is likely to be The Crown at Wheeler End ...          NaN   NaN\n",
       "3282  The group was started by the Holmer Green Wome...          NaN   NaN\n",
       "3646               59f99c46-3663-3740-ac46-2e9479a773ab  description   NaN\n",
       "3683  The man and woman on the outside are Donald an...          NaN   NaN\n",
       "3684  Accompanying them are Gwen and Sidney Hall. He...          NaN   NaN\n",
       "3685  They were all at a party given by Sir Francis ...          NaN   NaN\n",
       "3970  Although the event took place in West Wycombe,...          NaN   NaN"
      ]
     },
     "execution_count": 6,
     "metadata": {},
     "output_type": "execute_result"
    }
   ],
   "source": [
    "rows_with_nan = df[df.isna().any(axis=1)]\n",
    "rows_with_nan.head(10)"
   ]
  },
  {
   "cell_type": "code",
   "execution_count": 7,
   "metadata": {},
   "outputs": [
    {
     "name": "stdout",
     "output_type": "stream",
     "text": [
      "Rows with NaN in doc_id:\n",
      "Empty DataFrame\n",
      "Columns: [doc_id, type, value]\n",
      "Index: []\n",
      "Rows with NaN in type:\n",
      "                                                   doc_id type value\n",
      "1187    This view shows the third and final phase of t...  NaN   NaN\n",
      "1726    The foundation stone was laid by the Chairman ...  NaN   NaN\n",
      "2446                  The same event is shown in BFP01772  NaN   NaN\n",
      "3079    This is likely to be The Crown at Wheeler End ...  NaN   NaN\n",
      "3282    The group was started by the Holmer Green Wome...  NaN   NaN\n",
      "...                                                   ...  ...   ...\n",
      "152444  The four children in the bottom right of the i...  NaN   NaN\n",
      "157305  This is one of a series of photos (BFP78468 to...  NaN   NaN\n",
      "159312                                  See also RHW31136  NaN   NaN\n",
      "159542                                 See also RHW31138.  NaN   NaN\n",
      "159586                                 See also RHW31138.  NaN   NaN\n",
      "\n",
      "[488 rows x 3 columns]\n",
      "Rows with NaN in value:\n",
      "                                                   doc_id         type value\n",
      "1187    This view shows the third and final phase of t...          NaN   NaN\n",
      "1726    The foundation stone was laid by the Chairman ...          NaN   NaN\n",
      "2446                  The same event is shown in BFP01772          NaN   NaN\n",
      "3079    This is likely to be The Crown at Wheeler End ...          NaN   NaN\n",
      "3282    The group was started by the Holmer Green Wome...          NaN   NaN\n",
      "...                                                   ...          ...   ...\n",
      "169365               02a27b90-45db-39d9-8e35-c7c61fe3b0af  description   NaN\n",
      "169386               04c6d627-f627-36ca-ba71-8fb13c44278c  description   NaN\n",
      "169554               95545d31-20b1-3684-b224-9319dc3bb703  description   NaN\n",
      "169679               436ca9d8-9afb-3346-9d29-029c51062330  description   NaN\n",
      "169912               286d8465-63f4-3d51-8659-24a053c739a0  description   NaN\n",
      "\n",
      "[1062 rows x 3 columns]\n"
     ]
    }
   ],
   "source": [
    "for column in df.columns:\n",
    "    print(f\"Rows with NaN in {column}:\")\n",
    "    print(df[df[column].isna()])\n"
   ]
  },
  {
   "cell_type": "markdown",
   "metadata": {},
   "source": [
    "# Identify and Handle Missing Values🚫"
   ]
  },
  {
   "cell_type": "code",
   "execution_count": 8,
   "metadata": {},
   "outputs": [],
   "source": [
    "# First, remove rows where 'type' is NaN\n",
    "df.dropna(subset=['type'], inplace=True)\n"
   ]
  },
  {
   "cell_type": "code",
   "execution_count": 9,
   "metadata": {},
   "outputs": [],
   "source": [
    "# Then, replace NaN in 'value' with an empty string\n",
    "df.fillna({'value': ''}, inplace=True)\n",
    "\n"
   ]
  },
  {
   "cell_type": "code",
   "execution_count": 10,
   "metadata": {},
   "outputs": [
    {
     "name": "stdout",
     "output_type": "stream",
     "text": [
      "doc_id    0\n",
      "type      0\n",
      "value     0\n",
      "dtype: int64\n"
     ]
    }
   ],
   "source": [
    "print(df.isna().sum())\n"
   ]
  },
  {
   "cell_type": "markdown",
   "metadata": {},
   "source": [
    "# Validate 'doc_id' Format ✔️"
   ]
  },
  {
   "cell_type": "code",
   "execution_count": 11,
   "metadata": {},
   "outputs": [
    {
     "name": "stdout",
     "output_type": "stream",
     "text": [
      "                                         doc_id              type  \\\n",
      "29         https://www.wikidata.org/wiki/Q64116       tanc:became   \n",
      "244        https://www.wikidata.org/wiki/Q19695      tanc:showing   \n",
      "357     https://www.wikidata.org/wiki/Q12823105      tanc:gardens   \n",
      "382      https://www.wikidata.org/wiki/Q8039639      tanc:showing   \n",
      "561        https://www.wikidata.org/wiki/Q64116   tanc:surrounded   \n",
      "...                                         ...               ...   \n",
      "169200   https://www.wikidata.org/wiki/Q1541030         tanc:gain   \n",
      "169421       https://www.wikidata.org/wiki/Q222  tanc:transferred   \n",
      "169662   https://www.wikidata.org/wiki/Q5378261      tanc:dancing   \n",
      "169776   https://www.wikidata.org/wiki/Q8039639      tanc:singing   \n",
      "169954   https://www.wikidata.org/wiki/Q5378261      tanc:dancing   \n",
      "\n",
      "                                         value  \n",
      "29      https://www.wikidata.org/wiki/Q8034980  \n",
      "244       https://www.wikidata.org/wiki/Q64116  \n",
      "357     https://www.wikidata.org/wiki/Q3400528  \n",
      "382      https://www.wikidata.org/wiki/Q108325  \n",
      "561      https://www.wikidata.org/wiki/Q317557  \n",
      "...                                        ...  \n",
      "169200  https://www.wikidata.org/wiki/Q1541030  \n",
      "169421   https://www.wikidata.org/wiki/Q678371  \n",
      "169662  https://www.wikidata.org/wiki/Q1981760  \n",
      "169776  https://www.wikidata.org/wiki/Q8039639  \n",
      "169954  https://www.wikidata.org/wiki/Q1981760  \n",
      "\n",
      "[993 rows x 3 columns]\n",
      "Count of doc_id values not matching UUID format: 993\n"
     ]
    }
   ],
   "source": [
    "uuid_regex = r'^[0-9a-fA-F]{8}-[0-9a-fA-F]{4}-[0-9a-fA-F]{4}-[0-9a-fA-F]{4}-[0-9a-fA-F]{12}$'\n",
    "\n",
    "# Use str.match to check each doc_id against the UUID regex\n",
    "matches_uuid_format = df['doc_id'].str.match(uuid_regex)\n",
    "\n",
    "# You can then use this boolean series to filter the DataFrame or check which do not match\n",
    "not_matching = df[~matches_uuid_format]\n",
    "\n",
    "\n",
    "# Display entries that do not match the UUID format\n",
    "print(not_matching)\n",
    "\n",
    "# To get a count of how many doc_id values do not match the UUID format\n",
    "not_matching_count = not_matching.shape[0]\n",
    "print(f\"Count of doc_id values not matching UUID format: {not_matching_count}\")"
   ]
  },
  {
   "cell_type": "code",
   "execution_count": 12,
   "metadata": {},
   "outputs": [
    {
     "name": "stdout",
     "output_type": "stream",
     "text": [
      "(168477, 3)\n"
     ]
    }
   ],
   "source": [
    "# Remove fields in doc_id which are not in the form of UUID\n",
    "df = df[matches_uuid_format]\n",
    "\n",
    "# Check the updated DataFrame\n",
    "print(df.shape)\n"
   ]
  },
  {
   "cell_type": "code",
   "execution_count": 13,
   "metadata": {},
   "outputs": [
    {
     "name": "stdout",
     "output_type": "stream",
     "text": [
      "['title' 'description' 'mentions']\n"
     ]
    }
   ],
   "source": [
    "print(df['type'].unique())\n"
   ]
  },
  {
   "cell_type": "markdown",
   "metadata": {},
   "source": [
    "### Export Cleaned Data"
   ]
  },
  {
   "cell_type": "code",
   "execution_count": 14,
   "metadata": {},
   "outputs": [],
   "source": [
    "df.to_csv(output_file_path, sep='\\t', index=False, header=None)\n"
   ]
  }
 ],
 "metadata": {
  "kernelspec": {
   "display_name": "venv",
   "language": "python",
   "name": "python3"
  },
  "language_info": {
   "codemirror_mode": {
    "name": "ipython",
    "version": 3
   },
   "file_extension": ".py",
   "mimetype": "text/x-python",
   "name": "python",
   "nbconvert_exporter": "python",
   "pygments_lexer": "ipython3",
   "version": "3.10.0"
  }
 },
 "nbformat": 4,
 "nbformat_minor": 2
}
