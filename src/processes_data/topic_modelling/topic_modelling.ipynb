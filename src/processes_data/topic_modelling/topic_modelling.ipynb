{
 "cells": [
  {
   "cell_type": "markdown",
   "metadata": {},
   "source": [
    "# BERT and topic modelling"
   ]
  },
  {
   "cell_type": "code",
   "execution_count": 27,
   "metadata": {},
   "outputs": [],
   "source": [
    "import pandas as pd\n",
    "\n",
    "import torch\n",
    "from torch.nn.functional import softmax\n",
    "\n",
    "from transformers import BertTokenizer, BertForSequenceClassification\n",
    "from sklearn.model_selection import train_test_split\n",
    "\n",
    "import random\n",
    "\n"
   ]
  },
  {
   "cell_type": "code",
   "execution_count": 2,
   "metadata": {},
   "outputs": [
    {
     "data": {
      "text/html": [
       "<div>\n",
       "<style scoped>\n",
       "    .dataframe tbody tr th:only-of-type {\n",
       "        vertical-align: middle;\n",
       "    }\n",
       "\n",
       "    .dataframe tbody tr th {\n",
       "        vertical-align: top;\n",
       "    }\n",
       "\n",
       "    .dataframe thead th {\n",
       "        text-align: right;\n",
       "    }\n",
       "</style>\n",
       "<table border=\"1\" class=\"dataframe\">\n",
       "  <thead>\n",
       "    <tr style=\"text-align: right;\">\n",
       "      <th></th>\n",
       "      <th>doc_id</th>\n",
       "      <th>type</th>\n",
       "      <th>value</th>\n",
       "    </tr>\n",
       "  </thead>\n",
       "  <tbody>\n",
       "    <tr>\n",
       "      <th>0</th>\n",
       "      <td>a7bb9917-95ff-3f55-a640-4c5afcec25f2</td>\n",
       "      <td>title</td>\n",
       "      <td>View towards SE of junction of Queen Victoria ...</td>\n",
       "    </tr>\n",
       "    <tr>\n",
       "      <th>1</th>\n",
       "      <td>a7bb9917-95ff-3f55-a640-4c5afcec25f2</td>\n",
       "      <td>description</td>\n",
       "      <td>E corner of Queen Victoria Rd at junction with...</td>\n",
       "    </tr>\n",
       "    <tr>\n",
       "      <th>2</th>\n",
       "      <td>a7bb9917-95ff-3f55-a640-4c5afcec25f2</td>\n",
       "      <td>mentions</td>\n",
       "      <td>https://www.wikidata.org/wiki/Q64116</td>\n",
       "    </tr>\n",
       "    <tr>\n",
       "      <th>3</th>\n",
       "      <td>a7bb9917-95ff-3f55-a640-4c5afcec25f2</td>\n",
       "      <td>mentions</td>\n",
       "      <td>https://www.wikidata.org/wiki/Q64116</td>\n",
       "    </tr>\n",
       "    <tr>\n",
       "      <th>4</th>\n",
       "      <td>c29a7b77-7c46-3b85-88fe-05c8f4b2e384</td>\n",
       "      <td>title</td>\n",
       "      <td>Front page of Bucks Free Press, Time capsule f...</td>\n",
       "    </tr>\n",
       "  </tbody>\n",
       "</table>\n",
       "</div>"
      ],
      "text/plain": [
       "                                 doc_id         type  \\\n",
       "0  a7bb9917-95ff-3f55-a640-4c5afcec25f2        title   \n",
       "1  a7bb9917-95ff-3f55-a640-4c5afcec25f2  description   \n",
       "2  a7bb9917-95ff-3f55-a640-4c5afcec25f2     mentions   \n",
       "3  a7bb9917-95ff-3f55-a640-4c5afcec25f2     mentions   \n",
       "4  c29a7b77-7c46-3b85-88fe-05c8f4b2e384        title   \n",
       "\n",
       "                                               value  \n",
       "0  View towards SE of junction of Queen Victoria ...  \n",
       "1  E corner of Queen Victoria Rd at junction with...  \n",
       "2               https://www.wikidata.org/wiki/Q64116  \n",
       "3               https://www.wikidata.org/wiki/Q64116  \n",
       "4  Front page of Bucks Free Press, Time capsule f...  "
      ]
     },
     "execution_count": 2,
     "metadata": {},
     "output_type": "execute_result"
    }
   ],
   "source": [
    "# input_file_path = '/Users/thebekhruz/Desktop/100Days-Of-Code/100-Days-of-NLP-Odyssey/data/intermediate/preprocessing/combined_df_for_lda.csv'\n",
    "input_file_path = '/Users/thebekhruz/Desktop/100Days-Of-Code/100-Days-of-NLP-Odyssey/data/intermediate/swop_triples_cleaned.csv'\n",
    "df = pd.read_csv(input_file_path, delimiter='\\t', header=None, names=['doc_id', 'type', 'value'])\n",
    "df.head()"
   ]
  },
  {
   "cell_type": "code",
   "execution_count": 3,
   "metadata": {},
   "outputs": [],
   "source": [
    "# df.rename(columns = {'doc_id':'doc_ID', 'type':'text_input'}, inplace = True) \n",
    "# df.head()"
   ]
  },
  {
   "cell_type": "code",
   "execution_count": 4,
   "metadata": {},
   "outputs": [
    {
     "data": {
      "text/html": [
       "<div>\n",
       "<style scoped>\n",
       "    .dataframe tbody tr th:only-of-type {\n",
       "        vertical-align: middle;\n",
       "    }\n",
       "\n",
       "    .dataframe tbody tr th {\n",
       "        vertical-align: top;\n",
       "    }\n",
       "\n",
       "    .dataframe thead th {\n",
       "        text-align: right;\n",
       "    }\n",
       "</style>\n",
       "<table border=\"1\" class=\"dataframe\">\n",
       "  <thead>\n",
       "    <tr style=\"text-align: right;\">\n",
       "      <th></th>\n",
       "      <th>title</th>\n",
       "    </tr>\n",
       "    <tr>\n",
       "      <th>doc_id</th>\n",
       "      <th></th>\n",
       "    </tr>\n",
       "  </thead>\n",
       "  <tbody>\n",
       "    <tr>\n",
       "      <th>a7bb9917-95ff-3f55-a640-4c5afcec25f2</th>\n",
       "      <td>View towards SE of junction of Queen Victoria ...</td>\n",
       "    </tr>\n",
       "    <tr>\n",
       "      <th>c29a7b77-7c46-3b85-88fe-05c8f4b2e384</th>\n",
       "      <td>Front page of Bucks Free Press, Time capsule f...</td>\n",
       "    </tr>\n",
       "    <tr>\n",
       "      <th>196c11e6-f7b6-392f-ae41-28653345087c</th>\n",
       "      <td>High Wycombe Police Station, in Queen Victoria...</td>\n",
       "    </tr>\n",
       "    <tr>\n",
       "      <th>7a5aace6-2398-3dcf-8843-37ff6ccea875</th>\n",
       "      <td>Reference Library door, Queen Victoria Rd, Hig...</td>\n",
       "    </tr>\n",
       "    <tr>\n",
       "      <th>c66c4715-c03a-3aab-964b-e733f3ff1cf4</th>\n",
       "      <td>Terrace of brick and flint cottages, Beech Rd,...</td>\n",
       "    </tr>\n",
       "  </tbody>\n",
       "</table>\n",
       "</div>"
      ],
      "text/plain": [
       "                                                                                  title\n",
       "doc_id                                                                                 \n",
       "a7bb9917-95ff-3f55-a640-4c5afcec25f2  View towards SE of junction of Queen Victoria ...\n",
       "c29a7b77-7c46-3b85-88fe-05c8f4b2e384  Front page of Bucks Free Press, Time capsule f...\n",
       "196c11e6-f7b6-392f-ae41-28653345087c  High Wycombe Police Station, in Queen Victoria...\n",
       "7a5aace6-2398-3dcf-8843-37ff6ccea875  Reference Library door, Queen Victoria Rd, Hig...\n",
       "c66c4715-c03a-3aab-964b-e733f3ff1cf4  Terrace of brick and flint cottages, Beech Rd,..."
      ]
     },
     "execution_count": 4,
     "metadata": {},
     "output_type": "execute_result"
    }
   ],
   "source": [
    "# Filter to only include titles\n",
    "title_df = df[df['type'] == 'title'].set_index('doc_id')['value'].to_frame(name='title')\n",
    "title_df.head()\n"
   ]
  },
  {
   "cell_type": "code",
   "execution_count": 5,
   "metadata": {},
   "outputs": [
    {
     "data": {
      "text/html": [
       "<div>\n",
       "<style scoped>\n",
       "    .dataframe tbody tr th:only-of-type {\n",
       "        vertical-align: middle;\n",
       "    }\n",
       "\n",
       "    .dataframe tbody tr th {\n",
       "        vertical-align: top;\n",
       "    }\n",
       "\n",
       "    .dataframe thead th {\n",
       "        text-align: right;\n",
       "    }\n",
       "</style>\n",
       "<table border=\"1\" class=\"dataframe\">\n",
       "  <thead>\n",
       "    <tr style=\"text-align: right;\">\n",
       "      <th></th>\n",
       "      <th>title</th>\n",
       "    </tr>\n",
       "    <tr>\n",
       "      <th>doc_id</th>\n",
       "      <th></th>\n",
       "    </tr>\n",
       "  </thead>\n",
       "  <tbody>\n",
       "    <tr>\n",
       "      <th>a7bb9917-95ff-3f55-a640-4c5afcec25f2</th>\n",
       "      <td>View towards SE of junction of Queen Victoria ...</td>\n",
       "    </tr>\n",
       "    <tr>\n",
       "      <th>c29a7b77-7c46-3b85-88fe-05c8f4b2e384</th>\n",
       "      <td>Front page of Bucks Free Press, Time capsule f...</td>\n",
       "    </tr>\n",
       "    <tr>\n",
       "      <th>196c11e6-f7b6-392f-ae41-28653345087c</th>\n",
       "      <td>High Wycombe Police Station, in Queen Victoria...</td>\n",
       "    </tr>\n",
       "    <tr>\n",
       "      <th>7a5aace6-2398-3dcf-8843-37ff6ccea875</th>\n",
       "      <td>Reference Library door, Queen Victoria Rd, Hig...</td>\n",
       "    </tr>\n",
       "    <tr>\n",
       "      <th>c66c4715-c03a-3aab-964b-e733f3ff1cf4</th>\n",
       "      <td>Terrace of brick and flint cottages, Beech Rd,...</td>\n",
       "    </tr>\n",
       "  </tbody>\n",
       "</table>\n",
       "</div>"
      ],
      "text/plain": [
       "                                                                                  title\n",
       "doc_id                                                                                 \n",
       "a7bb9917-95ff-3f55-a640-4c5afcec25f2  View towards SE of junction of Queen Victoria ...\n",
       "c29a7b77-7c46-3b85-88fe-05c8f4b2e384  Front page of Bucks Free Press, Time capsule f...\n",
       "196c11e6-f7b6-392f-ae41-28653345087c  High Wycombe Police Station, in Queen Victoria...\n",
       "7a5aace6-2398-3dcf-8843-37ff6ccea875  Reference Library door, Queen Victoria Rd, Hig...\n",
       "c66c4715-c03a-3aab-964b-e733f3ff1cf4  Terrace of brick and flint cottages, Beech Rd,..."
      ]
     },
     "execution_count": 5,
     "metadata": {},
     "output_type": "execute_result"
    }
   ],
   "source": [
    "# Filter to only include descriptions\n",
    "descr_df = df[df['type'] == 'description'].set_index('doc_id')['value'].to_frame(name='description')\n",
    "title_df.head()"
   ]
  },
  {
   "cell_type": "code",
   "execution_count": 10,
   "metadata": {},
   "outputs": [
    {
     "data": {
      "text/html": [
       "<div>\n",
       "<style scoped>\n",
       "    .dataframe tbody tr th:only-of-type {\n",
       "        vertical-align: middle;\n",
       "    }\n",
       "\n",
       "    .dataframe tbody tr th {\n",
       "        vertical-align: top;\n",
       "    }\n",
       "\n",
       "    .dataframe thead th {\n",
       "        text-align: right;\n",
       "    }\n",
       "</style>\n",
       "<table border=\"1\" class=\"dataframe\">\n",
       "  <thead>\n",
       "    <tr style=\"text-align: right;\">\n",
       "      <th></th>\n",
       "      <th>TITLE</th>\n",
       "      <th>DESCRIPTION</th>\n",
       "      <th>MERGED_DATA</th>\n",
       "    </tr>\n",
       "    <tr>\n",
       "      <th>doc_id</th>\n",
       "      <th></th>\n",
       "      <th></th>\n",
       "      <th></th>\n",
       "    </tr>\n",
       "  </thead>\n",
       "  <tbody>\n",
       "    <tr>\n",
       "      <th>a7bb9917-95ff-3f55-a640-4c5afcec25f2</th>\n",
       "      <td>View towards SE of junction of Queen Victoria ...</td>\n",
       "      <td>E corner of Queen Victoria Rd at junction with...</td>\n",
       "      <td>View towards SE of junction of Queen Victoria ...</td>\n",
       "    </tr>\n",
       "    <tr>\n",
       "      <th>c29a7b77-7c46-3b85-88fe-05c8f4b2e384</th>\n",
       "      <td>Front page of Bucks Free Press, Time capsule f...</td>\n",
       "      <td>Front page Bucks Free Press The Time Capsule T...</td>\n",
       "      <td>Front page of Bucks Free Press, Time capsule f...</td>\n",
       "    </tr>\n",
       "    <tr>\n",
       "      <th>196c11e6-f7b6-392f-ae41-28653345087c</th>\n",
       "      <td>High Wycombe Police Station, in Queen Victoria...</td>\n",
       "      <td>New Police Station High Wycombe viewed from op...</td>\n",
       "      <td>High Wycombe Police Station, in Queen Victoria...</td>\n",
       "    </tr>\n",
       "    <tr>\n",
       "      <th>7a5aace6-2398-3dcf-8843-37ff6ccea875</th>\n",
       "      <td>Reference Library door, Queen Victoria Rd, Hig...</td>\n",
       "      <td>Corridor entrance to Reference Library</td>\n",
       "      <td>Reference Library door, Queen Victoria Rd, Hig...</td>\n",
       "    </tr>\n",
       "    <tr>\n",
       "      <th>c66c4715-c03a-3aab-964b-e733f3ff1cf4</th>\n",
       "      <td>Terrace of brick and flint cottages, Beech Rd,...</td>\n",
       "      <td>Terrace of brick and flint cottages</td>\n",
       "      <td>Terrace of brick and flint cottages, Beech Rd,...</td>\n",
       "    </tr>\n",
       "  </tbody>\n",
       "</table>\n",
       "</div>"
      ],
      "text/plain": [
       "                                                                                  TITLE  \\\n",
       "doc_id                                                                                    \n",
       "a7bb9917-95ff-3f55-a640-4c5afcec25f2  View towards SE of junction of Queen Victoria ...   \n",
       "c29a7b77-7c46-3b85-88fe-05c8f4b2e384  Front page of Bucks Free Press, Time capsule f...   \n",
       "196c11e6-f7b6-392f-ae41-28653345087c  High Wycombe Police Station, in Queen Victoria...   \n",
       "7a5aace6-2398-3dcf-8843-37ff6ccea875  Reference Library door, Queen Victoria Rd, Hig...   \n",
       "c66c4715-c03a-3aab-964b-e733f3ff1cf4  Terrace of brick and flint cottages, Beech Rd,...   \n",
       "\n",
       "                                                                            DESCRIPTION  \\\n",
       "doc_id                                                                                    \n",
       "a7bb9917-95ff-3f55-a640-4c5afcec25f2  E corner of Queen Victoria Rd at junction with...   \n",
       "c29a7b77-7c46-3b85-88fe-05c8f4b2e384  Front page Bucks Free Press The Time Capsule T...   \n",
       "196c11e6-f7b6-392f-ae41-28653345087c  New Police Station High Wycombe viewed from op...   \n",
       "7a5aace6-2398-3dcf-8843-37ff6ccea875             Corridor entrance to Reference Library   \n",
       "c66c4715-c03a-3aab-964b-e733f3ff1cf4                Terrace of brick and flint cottages   \n",
       "\n",
       "                                                                            MERGED_DATA  \n",
       "doc_id                                                                                   \n",
       "a7bb9917-95ff-3f55-a640-4c5afcec25f2  View towards SE of junction of Queen Victoria ...  \n",
       "c29a7b77-7c46-3b85-88fe-05c8f4b2e384  Front page of Bucks Free Press, Time capsule f...  \n",
       "196c11e6-f7b6-392f-ae41-28653345087c  High Wycombe Police Station, in Queen Victoria...  \n",
       "7a5aace6-2398-3dcf-8843-37ff6ccea875  Reference Library door, Queen Victoria Rd, Hig...  \n",
       "c66c4715-c03a-3aab-964b-e733f3ff1cf4  Terrace of brick and flint cottages, Beech Rd,...  "
      ]
     },
     "execution_count": 10,
     "metadata": {},
     "output_type": "execute_result"
    }
   ],
   "source": [
    "merged_df = title_df.merge(descr_df, left_index=True, right_index=True, how='inner')\n",
    "merged_df.rename(columns = {'doc_id':'DOC_ID', 'title':'TITLE', 'description':'DESCRIPTION'}, inplace = True) \n",
    "\n",
    "merged_df['MERGED_DATA'] = merged_df['TITLE'] + '. ' + merged_df['DESCRIPTION']\n",
    "merged_df.head()\n",
    "\n"
   ]
  },
  {
   "cell_type": "code",
   "execution_count": 15,
   "metadata": {},
   "outputs": [
    {
     "name": "stdout",
     "output_type": "stream",
     "text": [
      "['View towards SE of junction of Queen Victoria Road with High St and Easton St, High Wycombe, October 1936. E corner of Queen Victoria Rd at junction with Easton St and High St, High Wycombe', 'Front page of Bucks Free Press, Time capsule for Clock House (formerly Arts School) Frogmoor, High Wycombe. March 1985. Front page Bucks Free Press The Time Capsule The 7th July 1893 Other papers to be included in Clock House Time Capsule', 'High Wycombe Police Station, in Queen Victoria Road, High Wycombe. Oct 1935. New Police Station High Wycombe viewed from opposite side of the road', 'Reference Library door, Queen Victoria Rd, High Wycombe. about 1992. Corridor entrance to Reference Library', 'Terrace of brick and flint cottages, Beech Rd, Wycombe Marsh. about 1935. Terrace of brick and flint cottages']\n"
     ]
    }
   ],
   "source": [
    "DOCUMENTS = merged_df['MERGED_DATA'].tolist()\n",
    "print(DOCUMENTS[:5], sep='\\n')"
   ]
  },
  {
   "cell_type": "markdown",
   "metadata": {},
   "source": [
    "<!-- ## Splitting the dataset into training and testing sets\n",
    " -->\n"
   ]
  },
  {
   "cell_type": "code",
   "execution_count": 6,
   "metadata": {},
   "outputs": [],
   "source": [
    "# documents_train, documents_test = train_test_split(DOCUMENTS, test_size=0.1, random_state=32)\n"
   ]
  },
  {
   "cell_type": "markdown",
   "metadata": {},
   "source": [
    "## Load pre-trained model and tokenizer\n",
    "\n",
    "> bert-base-uncased. Learn more at [link](https://huggingface.co/google-bert/bert-base-uncased)\n"
   ]
  },
  {
   "cell_type": "code",
   "execution_count": 18,
   "metadata": {},
   "outputs": [
    {
     "name": "stderr",
     "output_type": "stream",
     "text": [
      "Some weights of BertForSequenceClassification were not initialized from the model checkpoint at bert-base-uncased and are newly initialized: ['classifier.bias', 'classifier.weight']\n",
      "You should probably TRAIN this model on a down-stream task to be able to use it for predictions and inference.\n"
     ]
    }
   ],
   "source": [
    "tokenizer = BertTokenizer.from_pretrained('bert-base-uncased')\n",
    "model = BertForSequenceClassification.from_pretrained('bert-base-uncased', num_labels=len(CATEGORIES))\n"
   ]
  },
  {
   "cell_type": "markdown",
   "metadata": {},
   "source": [
    "### Example."
   ]
  },
  {
   "cell_type": "code",
   "execution_count": 32,
   "metadata": {},
   "outputs": [
    {
     "name": "stdout",
     "output_type": "stream",
     "text": [
      "Document 1:\n",
      "View towards SE of junction of Queen Victoria Road with High St and Easton St, High Wycombe, October 1936. E corner of Queen Victoria Rd at junction with Easton St and High St, High Wycombe\n",
      "\n",
      "Document is classified as:--- historical --- Historical and Cultural Moments - Captures significant historical and cultural moments, including ceremonies and commemorations. ---\n",
      "\n",
      "Document 2:\n",
      "Front page of Bucks Free Press, Time capsule for Clock House (formerly Arts School) Frogmoor, High Wycombe. March 1985. Front page Bucks Free Press The Time Capsule The 7th July 1893 Other papers to be included in Clock House Time Capsule\n",
      "\n",
      "Document is classified as:--- historical --- Historical and Cultural Moments - Captures significant historical and cultural moments, including ceremonies and commemorations. ---\n",
      "\n",
      "Document 3:\n",
      "High Wycombe Police Station, in Queen Victoria Road, High Wycombe. Oct 1935. New Police Station High Wycombe viewed from opposite side of the road\n",
      "\n",
      "Document is classified as:--- historical --- Historical and Cultural Moments - Captures significant historical and cultural moments, including ceremonies and commemorations. ---\n",
      "\n",
      "Document 4:\n",
      "Reference Library door, Queen Victoria Rd, High Wycombe. about 1992. Corridor entrance to Reference Library\n",
      "\n",
      "Document is classified as:--- historical --- Historical and Cultural Moments - Captures significant historical and cultural moments, including ceremonies and commemorations. ---\n",
      "\n",
      "Document 5:\n",
      "Terrace of brick and flint cottages, Beech Rd, Wycombe Marsh. about 1935. Terrace of brick and flint cottages\n",
      "\n",
      "Document is classified as:--- historical --- Historical and Cultural Moments - Captures significant historical and cultural moments, including ceremonies and commemorations. ---\n",
      "\n",
      "Document 6:\n",
      "Site of former Dial House, demolition at corner of Easton St and Crendon St, High Wycombe. Jan.1937. Site of Dial House and adjacent shop after demolition, Easton St, High Wycombe\n",
      "\n",
      "Document is classified as:--- historical --- Historical and Cultural Moments - Captures significant historical and cultural moments, including ceremonies and commemorations. ---\n",
      "\n",
      "Document 7:\n",
      "Row of cottages and part of factory building, Coopers Yard, Frogmoor, High Wycombe, about 1930. Row of cottages, wash houses and part of factory building in Coopers Yard Buildings on the left became a Working Men's Club (HDC)\n",
      "\n",
      "Document is classified as:--- historical --- Historical and Cultural Moments - Captures significant historical and cultural moments, including ceremonies and commemorations. ---\n",
      "\n",
      "Document 8:\n",
      "60th anniversary of opening of Library, part of exhibition, Queen Victoria Rd, High Wycombe. June 1992. 60th anniversary of opening of Library, mock up of 1930's room designed by Cayla Twemlow\n",
      "\n",
      "Document is classified as:--- historical --- Historical and Cultural Moments - Captures significant historical and cultural moments, including ceremonies and commemorations. ---\n",
      "\n",
      "Document 9:\n",
      "View towards NE of crossroads at junction of Queen Victoria Rd, High St, Easton St and Crendon St, High Wycombe, Sept.1934. Post Office under construction, Dial House, Christchurch(Crendon St), Library Gardens\n",
      "\n",
      "Document is classified as:--- historical --- Historical and Cultural Moments - Captures significant historical and cultural moments, including ceremonies and commemorations. ---\n",
      "\n",
      "Document 10:\n",
      "High Wycombe Police Station, Queen Victoria Road, High Wycombe about 1935. New Police Station High Wycombe\n",
      "\n",
      "Document is classified as:--- historical --- Historical and Cultural Moments - Captures significant historical and cultural moments, including ceremonies and commemorations. ---\n",
      "\n"
     ]
    }
   ],
   "source": [
    "# Example of use\n",
    "CATEGORIES = {\n",
    "    'community': 'Community Events and Social Gatherings - Includes photos of community events, social gatherings, parades, and celebrations.',\n",
    "    'architecture': 'Architectural and Urban Landscapes - Focuses on buildings, streets, urban landscapes, and architectural details.',\n",
    "    'historical': 'Historical and Cultural Moments - Captures significant historical and cultural moments, including ceremonies and commemorations.',\n",
    "    'natural': 'Natural Landscapes and Scenic Views - Showcases natural landscapes, parks, rivers, and scenic views.',\n",
    "    'personal': 'Personal and Family Life - Centers on photos of individuals, families, and daily life, reflecting personal stories and moments.',\n",
    "    'education': 'Educational and Institutional - Relates to education, institutions, and formal gatherings.',\n",
    "    'industrial': 'Industrial and Technological Progress - Documents industrial scenes, technological advancements, and construction.'\n",
    "}\n",
    "\n",
    "\n",
    "# Tokenize the document\n",
    "for i in range(10):\n",
    "    random_index = random.randrange(20000)\n",
    "    doc_eg = DOCUMENTS[i]\n",
    "\n",
    "    inputs = tokenizer(doc_eg, return_tensors=\"pt\", padding=True, truncation=True, max_length=512)\n",
    "\n",
    "    # Predict category with BERT\n",
    "    with torch.no_grad():\n",
    "        logits = model(**inputs).logits\n",
    "        probabilities = softmax(logits, dim=1)\n",
    "        predicted_index = probabilities.argmax()\n",
    "        predicted_category_key = list(CATEGORIES.keys())[predicted_index]\n",
    "        predicted_category_description = CATEGORIES[predicted_category_key]\n",
    "\n",
    "    print(f\"Document {i + 1}:\\n{doc_eg}\\n\")\n",
    "    print(f\"Document is classified as:--- {predicted_category_key} --- {predicted_category_description} ---\\n\")\n",
    "\n"
   ]
  },
  {
   "cell_type": "code",
   "execution_count": 20,
   "metadata": {},
   "outputs": [
    {
     "name": "stdout",
     "output_type": "stream",
     "text": [
      "Document 1:\n",
      "View towards SE of junction of Queen Victoria Road with High St and Easton St, High Wycombe, October 1936. E corner of Queen Victoria Rd at junction with Easton St and High St, High Wycombe\n",
      "\n"
     ]
    },
    {
     "ename": "KeyError",
     "evalue": "tensor(2)",
     "output_type": "error",
     "traceback": [
      "\u001b[0;31m---------------------------------------------------------------------------\u001b[0m",
      "\u001b[0;31mKeyError\u001b[0m                                  Traceback (most recent call last)",
      "Input \u001b[0;32mIn [20]\u001b[0m, in \u001b[0;36m<module>\u001b[0;34m\u001b[0m\n\u001b[1;32m     10\u001b[0m     logits \u001b[38;5;241m=\u001b[39m model(\u001b[38;5;241m*\u001b[39m\u001b[38;5;241m*\u001b[39minputs)\u001b[38;5;241m.\u001b[39mlogits\n\u001b[1;32m     11\u001b[0m     probabilities \u001b[38;5;241m=\u001b[39m softmax(logits, dim\u001b[38;5;241m=\u001b[39m\u001b[38;5;241m1\u001b[39m)\n\u001b[0;32m---> 12\u001b[0m     predicted_category \u001b[38;5;241m=\u001b[39m \u001b[43mCATEGORIES\u001b[49m\u001b[43m[\u001b[49m\u001b[43mprobabilities\u001b[49m\u001b[38;5;241;43m.\u001b[39;49m\u001b[43margmax\u001b[49m\u001b[43m(\u001b[49m\u001b[43m)\u001b[49m\u001b[43m]\u001b[49m\n\u001b[1;32m     14\u001b[0m \u001b[38;5;28mprint\u001b[39m(\u001b[38;5;124mf\u001b[39m\u001b[38;5;124m\"\u001b[39m\u001b[38;5;124mDocument is classified as: \u001b[39m\u001b[38;5;132;01m{\u001b[39;00mpredicted_category\u001b[38;5;132;01m}\u001b[39;00m\u001b[38;5;130;01m\\n\u001b[39;00m\u001b[38;5;124m\"\u001b[39m)\n",
      "\u001b[0;31mKeyError\u001b[0m: tensor(2)"
     ]
    }
   ],
   "source": [
    "\n",
    "# Tokenize the document\n",
    "for i in range(5):\n",
    "    doc_eg = DOCUMENTS[i]\n",
    "    print(f\"Document {i + 1}:\\n{doc_eg}\\n\")\n",
    "\n",
    "    inputs = tokenizer(doc_eg, return_tensors=\"pt\", padding=True, truncation=True, max_length=512)\n",
    "\n",
    "    # Predict category with BERT\n",
    "    with torch.no_grad():\n",
    "        logits = model(**inputs).logits\n",
    "        probabilities = softmax(logits, dim=1)\n",
    "        predicted_category = CATEGORIES[probabilities.argmax()]\n",
    "\n",
    "    print(f\"Document is classified as: {predicted_category}\\n\")\n",
    "# inputs = tokenizer(doc_eg, return_tensors=\"pt\", padding=True, truncation=True, max_length=512)\n",
    "\n",
    "# # Predict category with BERT\n",
    "# with torch.no_grad():\n",
    "#     logits = model(**inputs).logits\n",
    "#     probabilities = softmax(logits, dim=1)\n",
    "#     predicted_category = CATEGORIES[probabilities.argmax()]\n",
    "\n",
    "# print(f\"Document is classified as: {predicted_category}\")\n"
   ]
  },
  {
   "cell_type": "code",
   "execution_count": null,
   "metadata": {},
   "outputs": [
    {
     "name": "stdout",
     "output_type": "stream",
     "text": [
      "View towards SE of junction of Queen Victoria Road with High St and Easton St, High Wycombe, October 1936\n"
     ]
    }
   ],
   "source": [
    "print(doc_eg)"
   ]
  }
 ],
 "metadata": {
  "kernelspec": {
   "display_name": "venv",
   "language": "python",
   "name": "python3"
  },
  "language_info": {
   "codemirror_mode": {
    "name": "ipython",
    "version": 3
   },
   "file_extension": ".py",
   "mimetype": "text/x-python",
   "name": "python",
   "nbconvert_exporter": "python",
   "pygments_lexer": "ipython3",
   "version": "3.10.0"
  }
 },
 "nbformat": 4,
 "nbformat_minor": 2
}
