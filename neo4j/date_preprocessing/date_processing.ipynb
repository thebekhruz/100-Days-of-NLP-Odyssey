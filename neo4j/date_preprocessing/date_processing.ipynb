{
 "cells": [
  {
   "cell_type": "code",
   "execution_count": 12,
   "metadata": {},
   "outputs": [
    {
     "data": {
      "text/plain": [
       "'/Users/thebekhruz/Desktop/100Days-Of-Code/100-Days-of-NLP-Odyssey/data/processed/data_updated.jsonl'"
      ]
     },
     "execution_count": 12,
     "metadata": {},
     "output_type": "execute_result"
    }
   ],
   "source": [
    "import json\n",
    "import re\n",
    "\n",
    "# Define the path to the original and output files\n",
    "file_path = '/Users/thebekhruz/Desktop/100Days-Of-Code/100-Days-of-NLP-Odyssey/data/raw/sample_2k_swop_output.jsonl'\n",
    "output_file_path = '/Users/thebekhruz/Desktop/100Days-Of-Code/100-Days-of-NLP-Odyssey/data/processed/data_updated.jsonl'\n",
    "\n",
    "\n",
    "with open(file_path, 'r') as file, open(output_file_path, 'w') as outfile:\n",
    "    for line in file:\n",
    "        data = json.loads(line)\n",
    "        \n",
    "        # Check and process each mention if 'mentions' key exists\n",
    "        if 'mentions' in data:\n",
    "            for mention in data['mentions']:\n",
    "                if mention.get('ne_type') == 'DATE' and 'text' in mention:\n",
    "                    # Remove all punctuation and non-numeric characters, then check if it's 4 digits\n",
    "                    cleaned_text = re.sub(r'\\D', '', mention['text'])\n",
    "                    if len(cleaned_text) == 4:\n",
    "                        mention['ne_formatted'] = cleaned_text\n",
    "                    else:\n",
    "                        mention['ne_formatted'] = 'YYYY'  # Placeholder if not exactly 4 digits\n",
    "        \n",
    "        # Write the modified data back to the new JSONL file\n",
    "        json.dump(data, outfile)\n",
    "        outfile.write('\\n')  # Ensure each JSON object is on a new line\n",
    "\n",
    "# Output path for confirmation\n",
    "output_file_path\n"
   ]
  },
  {
   "cell_type": "markdown",
   "metadata": {},
   "source": []
  }
 ],
 "metadata": {
  "kernelspec": {
   "display_name": "venv",
   "language": "python",
   "name": "python3"
  },
  "language_info": {
   "codemirror_mode": {
    "name": "ipython",
    "version": 3
   },
   "file_extension": ".py",
   "mimetype": "text/x-python",
   "name": "python",
   "nbconvert_exporter": "python",
   "pygments_lexer": "ipython3",
   "version": "3.10.0"
  }
 },
 "nbformat": 4,
 "nbformat_minor": 2
}
