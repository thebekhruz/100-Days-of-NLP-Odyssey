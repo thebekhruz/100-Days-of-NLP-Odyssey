{
 "cells": [
  {
   "cell_type": "markdown",
   "metadata": {},
   "source": [
    "## Generating Document Embeddings"
   ]
  },
  {
   "cell_type": "code",
   "execution_count": 1,
   "metadata": {},
   "outputs": [],
   "source": [
    "import pandas as pd\n",
    "import numpy as np\n",
    "from sentence_transformers import SentenceTransformer, util\n",
    "from sklearn.metrics.pairwise import cosine_similarity\n",
    "import spacy\n",
    "nlp = spacy.load(\"en_core_web_sm\")  # Load the small English model"
   ]
  },
  {
   "cell_type": "code",
   "execution_count": 2,
   "metadata": {},
   "outputs": [
    {
     "name": "stdout",
     "output_type": "stream",
     "text": [
      "Data Frame loaded as df\n"
     ]
    }
   ],
   "source": [
    "input_file_path = '/Users/thebekhruz/Desktop/100Days-Of-Code/100-Days-of-NLP-Odyssey/data/processed/data_with_contextual_relevance.jsonl'\n",
    "\n",
    "try:\n",
    "    df = pd.read_json(input_file_path, lines=True)\n",
    "    print('Data Frame loaded as df')\n",
    "except Exception as e:\n",
    "    print(e)"
   ]
  },
  {
   "cell_type": "code",
   "execution_count": 3,
   "metadata": {},
   "outputs": [
    {
     "data": {
      "text/plain": [
       "IAID   text   mentions\n",
       "False  False  False       1983\n",
       "Name: count, dtype: int64"
      ]
     },
     "execution_count": 3,
     "metadata": {},
     "output_type": "execute_result"
    }
   ],
   "source": [
    "# Check the data:\n",
    "# The data is in the desired format if the output is False for all.\n",
    "df.isna().value_counts()"
   ]
  },
  {
   "cell_type": "code",
   "execution_count": 4,
   "metadata": {},
   "outputs": [],
   "source": [
    "# Preprocesses the given text by removing punctuation,lemmatising the words,\n",
    "    # making text lowercase, and removing stop words.\n",
    "def preprocess_text(text):\n",
    "    doc = nlp(text)\n",
    "    tokens = [token.lemma_.lower() for token in doc if not token.is_stop and not token.is_punct]\n",
    "    preprocessed_text = ' '.join(tokens)\n",
    "    return preprocessed_text\n",
    "\n",
    "# Preprocess the text in the 'text' column\n",
    "df['preprocessed_text'] = df['text'].apply(preprocess_text)\n"
   ]
  },
  {
   "cell_type": "code",
   "execution_count": 5,
   "metadata": {},
   "outputs": [],
   "source": [
    "# Initialize the SentenceTransformer model with 'all-mpnet-base-v2'.\n",
    "# This model is a versatile, all-purpose model for English sentence embeddings,\n",
    "# trained on a large and diverse dataset of sentences.\n",
    "model = SentenceTransformer(\"msmarco-distilbert-dot-v5\")\n"
   ]
  },
  {
   "cell_type": "code",
   "execution_count": 6,
   "metadata": {},
   "outputs": [],
   "source": [
    "# Encode the text with 'all-mpnet-base-v2' model\n",
    "df['text_embedding'] = df['preprocessed_text'].apply(lambda x: model.encode(x))"
   ]
  },
  {
   "cell_type": "code",
   "execution_count": 8,
   "metadata": {},
   "outputs": [
    {
     "data": {
      "text/html": [
       "<div>\n",
       "<style scoped>\n",
       "    .dataframe tbody tr th:only-of-type {\n",
       "        vertical-align: middle;\n",
       "    }\n",
       "\n",
       "    .dataframe tbody tr th {\n",
       "        vertical-align: top;\n",
       "    }\n",
       "\n",
       "    .dataframe thead th {\n",
       "        text-align: right;\n",
       "    }\n",
       "</style>\n",
       "<table border=\"1\" class=\"dataframe\">\n",
       "  <thead>\n",
       "    <tr style=\"text-align: right;\">\n",
       "      <th></th>\n",
       "      <th>IAID</th>\n",
       "      <th>text</th>\n",
       "      <th>mentions</th>\n",
       "      <th>preprocessed_text</th>\n",
       "      <th>text_embedding</th>\n",
       "    </tr>\n",
       "  </thead>\n",
       "  <tbody>\n",
       "    <tr>\n",
       "      <th>0</th>\n",
       "      <td>a7bb9917-95ff-3f55-a640-4c5afcec25f2</td>\n",
       "      <td>View towards SE of junction of Queen Victoria ...</td>\n",
       "      <td>[{'ne_span': 'Queen Victoria Road', 'ne_start'...</td>\n",
       "      <td>view se junction queen victoria road high st e...</td>\n",
       "      <td>[-0.036429767, 0.43713483, 0.050612718, -0.088...</td>\n",
       "    </tr>\n",
       "    <tr>\n",
       "      <th>1</th>\n",
       "      <td>c29a7b77-7c46-3b85-88fe-05c8f4b2e384</td>\n",
       "      <td>Front page of Bucks Free Press, Time capsule f...</td>\n",
       "      <td>[{'ne_span': 'Bucks Free Press', 'ne_start': 1...</td>\n",
       "      <td>page bucks free press time capsule clock house...</td>\n",
       "      <td>[0.24973764, 0.45752427, 0.47631216, -0.098070...</td>\n",
       "    </tr>\n",
       "    <tr>\n",
       "      <th>2</th>\n",
       "      <td>196c11e6-f7b6-392f-ae41-28653345087c</td>\n",
       "      <td>High Wycombe Police Station, in Queen Victoria...</td>\n",
       "      <td>[{'ne_span': 'High Wycombe Police Station', 'n...</td>\n",
       "      <td>high wycombe police station queen victoria roa...</td>\n",
       "      <td>[-0.021879869, 0.22485399, 0.26114935, 0.11417...</td>\n",
       "    </tr>\n",
       "    <tr>\n",
       "      <th>3</th>\n",
       "      <td>7a5aace6-2398-3dcf-8843-37ff6ccea875</td>\n",
       "      <td>Reference Library door, Queen Victoria Rd, Hig...</td>\n",
       "      <td>[{'ne_span': 'Reference Library', 'ne_start': ...</td>\n",
       "      <td>reference library door queen victoria rd high ...</td>\n",
       "      <td>[0.1924246, 0.40368715, 0.1478213, -0.11580495...</td>\n",
       "    </tr>\n",
       "    <tr>\n",
       "      <th>4</th>\n",
       "      <td>c66c4715-c03a-3aab-964b-e733f3ff1cf4</td>\n",
       "      <td>Terrace of brick and flint cottages, Beech Rd,...</td>\n",
       "      <td>[{'ne_span': 'Beech Rd', 'ne_start': 37, 'ne_e...</td>\n",
       "      <td>terrace brick flint cottage beech rd wycombe m...</td>\n",
       "      <td>[0.05957327, 0.42521647, 0.3429314, -0.1636258...</td>\n",
       "    </tr>\n",
       "  </tbody>\n",
       "</table>\n",
       "</div>"
      ],
      "text/plain": [
       "                                   IAID  \\\n",
       "0  a7bb9917-95ff-3f55-a640-4c5afcec25f2   \n",
       "1  c29a7b77-7c46-3b85-88fe-05c8f4b2e384   \n",
       "2  196c11e6-f7b6-392f-ae41-28653345087c   \n",
       "3  7a5aace6-2398-3dcf-8843-37ff6ccea875   \n",
       "4  c66c4715-c03a-3aab-964b-e733f3ff1cf4   \n",
       "\n",
       "                                                text  \\\n",
       "0  View towards SE of junction of Queen Victoria ...   \n",
       "1  Front page of Bucks Free Press, Time capsule f...   \n",
       "2  High Wycombe Police Station, in Queen Victoria...   \n",
       "3  Reference Library door, Queen Victoria Rd, Hig...   \n",
       "4  Terrace of brick and flint cottages, Beech Rd,...   \n",
       "\n",
       "                                            mentions  \\\n",
       "0  [{'ne_span': 'Queen Victoria Road', 'ne_start'...   \n",
       "1  [{'ne_span': 'Bucks Free Press', 'ne_start': 1...   \n",
       "2  [{'ne_span': 'High Wycombe Police Station', 'n...   \n",
       "3  [{'ne_span': 'Reference Library', 'ne_start': ...   \n",
       "4  [{'ne_span': 'Beech Rd', 'ne_start': 37, 'ne_e...   \n",
       "\n",
       "                                   preprocessed_text  \\\n",
       "0  view se junction queen victoria road high st e...   \n",
       "1  page bucks free press time capsule clock house...   \n",
       "2  high wycombe police station queen victoria roa...   \n",
       "3  reference library door queen victoria rd high ...   \n",
       "4  terrace brick flint cottage beech rd wycombe m...   \n",
       "\n",
       "                                      text_embedding  \n",
       "0  [-0.036429767, 0.43713483, 0.050612718, -0.088...  \n",
       "1  [0.24973764, 0.45752427, 0.47631216, -0.098070...  \n",
       "2  [-0.021879869, 0.22485399, 0.26114935, 0.11417...  \n",
       "3  [0.1924246, 0.40368715, 0.1478213, -0.11580495...  \n",
       "4  [0.05957327, 0.42521647, 0.3429314, -0.1636258...  "
      ]
     },
     "execution_count": 8,
     "metadata": {},
     "output_type": "execute_result"
    }
   ],
   "source": [
    "df.head()"
   ]
  },
  {
   "cell_type": "code",
   "execution_count": 28,
   "metadata": {},
   "outputs": [],
   "source": [
    "from sklearn.metrics.pairwise import cosine_similarity\n",
    "import numpy as np\n",
    "\n",
    "def search(query, model, k=5):\n",
    "    # Preprocess the query\n",
    "    query = preprocess_text(query)\n",
    "    \n",
    "    # Encode the query\n",
    "    query_embedding = model.encode([query])\n",
    "    \n",
    "    # Calculate similarity scores\n",
    "    similarity_scores = cosine_similarity(query_embedding, np.array(df['text_embedding'].tolist())).flatten()\n",
    "    \n",
    "    # Get indices of top k scores\n",
    "    top_k_indices = np.argsort(similarity_scores)[-k:][::-1]\n",
    "    \n",
    "    # Retrieve and print the corresponding texts\n",
    "    for index in top_k_indices:\n",
    "        most_similar_text = df.iloc[index]['text']\n",
    "        print(f\"Similar text: {most_similar_text}\\nSimilarity score: {similarity_scores[index]}\\n---\")\n",
    "\n"
   ]
  },
  {
   "cell_type": "code",
   "execution_count": 36,
   "metadata": {},
   "outputs": [
    {
     "data": {
      "text/html": [
       "<div>\n",
       "<style scoped>\n",
       "    .dataframe tbody tr th:only-of-type {\n",
       "        vertical-align: middle;\n",
       "    }\n",
       "\n",
       "    .dataframe tbody tr th {\n",
       "        vertical-align: top;\n",
       "    }\n",
       "\n",
       "    .dataframe thead th {\n",
       "        text-align: right;\n",
       "    }\n",
       "</style>\n",
       "<table border=\"1\" class=\"dataframe\">\n",
       "  <thead>\n",
       "    <tr style=\"text-align: right;\">\n",
       "      <th></th>\n",
       "      <th>IAID</th>\n",
       "      <th>text</th>\n",
       "      <th>mentions</th>\n",
       "      <th>text_embedding</th>\n",
       "    </tr>\n",
       "  </thead>\n",
       "  <tbody>\n",
       "    <tr>\n",
       "      <th>0</th>\n",
       "      <td>a7bb9917-95ff-3f55-a640-4c5afcec25f2</td>\n",
       "      <td>View towards SE of junction of Queen Victoria ...</td>\n",
       "      <td>[{'ne_span': 'Queen Victoria Road', 'ne_start'...</td>\n",
       "      <td>[-0.036429767, 0.43713483, 0.050612718, -0.088...</td>\n",
       "    </tr>\n",
       "    <tr>\n",
       "      <th>1</th>\n",
       "      <td>c29a7b77-7c46-3b85-88fe-05c8f4b2e384</td>\n",
       "      <td>Front page of Bucks Free Press, Time capsule f...</td>\n",
       "      <td>[{'ne_span': 'Bucks Free Press', 'ne_start': 1...</td>\n",
       "      <td>[0.24973764, 0.45752427, 0.47631216, -0.098070...</td>\n",
       "    </tr>\n",
       "    <tr>\n",
       "      <th>2</th>\n",
       "      <td>196c11e6-f7b6-392f-ae41-28653345087c</td>\n",
       "      <td>High Wycombe Police Station, in Queen Victoria...</td>\n",
       "      <td>[{'ne_span': 'High Wycombe Police Station', 'n...</td>\n",
       "      <td>[-0.021879869, 0.22485399, 0.26114935, 0.11417...</td>\n",
       "    </tr>\n",
       "    <tr>\n",
       "      <th>3</th>\n",
       "      <td>7a5aace6-2398-3dcf-8843-37ff6ccea875</td>\n",
       "      <td>Reference Library door, Queen Victoria Rd, Hig...</td>\n",
       "      <td>[{'ne_span': 'Reference Library', 'ne_start': ...</td>\n",
       "      <td>[0.1924246, 0.40368715, 0.1478213, -0.11580495...</td>\n",
       "    </tr>\n",
       "    <tr>\n",
       "      <th>4</th>\n",
       "      <td>c66c4715-c03a-3aab-964b-e733f3ff1cf4</td>\n",
       "      <td>Terrace of brick and flint cottages, Beech Rd,...</td>\n",
       "      <td>[{'ne_span': 'Beech Rd', 'ne_start': 37, 'ne_e...</td>\n",
       "      <td>[0.05957327, 0.42521647, 0.3429314, -0.1636258...</td>\n",
       "    </tr>\n",
       "  </tbody>\n",
       "</table>\n",
       "</div>"
      ],
      "text/plain": [
       "                                   IAID  \\\n",
       "0  a7bb9917-95ff-3f55-a640-4c5afcec25f2   \n",
       "1  c29a7b77-7c46-3b85-88fe-05c8f4b2e384   \n",
       "2  196c11e6-f7b6-392f-ae41-28653345087c   \n",
       "3  7a5aace6-2398-3dcf-8843-37ff6ccea875   \n",
       "4  c66c4715-c03a-3aab-964b-e733f3ff1cf4   \n",
       "\n",
       "                                                text  \\\n",
       "0  View towards SE of junction of Queen Victoria ...   \n",
       "1  Front page of Bucks Free Press, Time capsule f...   \n",
       "2  High Wycombe Police Station, in Queen Victoria...   \n",
       "3  Reference Library door, Queen Victoria Rd, Hig...   \n",
       "4  Terrace of brick and flint cottages, Beech Rd,...   \n",
       "\n",
       "                                            mentions  \\\n",
       "0  [{'ne_span': 'Queen Victoria Road', 'ne_start'...   \n",
       "1  [{'ne_span': 'Bucks Free Press', 'ne_start': 1...   \n",
       "2  [{'ne_span': 'High Wycombe Police Station', 'n...   \n",
       "3  [{'ne_span': 'Reference Library', 'ne_start': ...   \n",
       "4  [{'ne_span': 'Beech Rd', 'ne_start': 37, 'ne_e...   \n",
       "\n",
       "                                      text_embedding  \n",
       "0  [-0.036429767, 0.43713483, 0.050612718, -0.088...  \n",
       "1  [0.24973764, 0.45752427, 0.47631216, -0.098070...  \n",
       "2  [-0.021879869, 0.22485399, 0.26114935, 0.11417...  \n",
       "3  [0.1924246, 0.40368715, 0.1478213, -0.11580495...  \n",
       "4  [0.05957327, 0.42521647, 0.3429314, -0.1636258...  "
      ]
     },
     "execution_count": 36,
     "metadata": {},
     "output_type": "execute_result"
    }
   ],
   "source": [
    "# Prepere the data for saving\n",
    "del df['preprocessed_text']\n",
    "df.head()\n"
   ]
  },
  {
   "cell_type": "code",
   "execution_count": 37,
   "metadata": {},
   "outputs": [
    {
     "name": "stdout",
     "output_type": "stream",
     "text": [
      "Data saved to /Users/thebekhruz/Desktop/100Days-Of-Code/100-Days-of-NLP-Odyssey/data/processed/data_with_contextual_relevance_and_doc_embddings.jsonl\n"
     ]
    }
   ],
   "source": [
    "# Save the file \n",
    "output_file_path = '/Users/thebekhruz/Desktop/100Days-Of-Code/100-Days-of-NLP-Odyssey/data/processed/data_with_contextual_relevance_and_doc_embddings.jsonl'\n",
    "df.to_json(output_file_path, orient='records', lines=True)\n",
    "print(f'Data saved to {output_file_path}')"
   ]
  },
  {
   "cell_type": "markdown",
   "metadata": {},
   "source": [
    "## Semantic Search, putting everything together."
   ]
  },
  {
   "cell_type": "code",
   "execution_count": null,
   "metadata": {},
   "outputs": [],
   "source": [
    "# Load data \n",
    "\n"
   ]
  },
  {
   "cell_type": "markdown",
   "metadata": {},
   "source": [
    "##### Testing"
   ]
  },
  {
   "cell_type": "code",
   "execution_count": 29,
   "metadata": {},
   "outputs": [
    {
     "name": "stdout",
     "output_type": "stream",
     "text": [
      "Similar text: Queen Victoria Rd under construction, High Wycombe, about 1901\n",
      "Construction of Queen Victoria Rd north of R. Wye\n",
      "Similarity score: 0.9143281579017639\n",
      "---\n",
      "Similar text: High Wycombe Police Station, Queen Victoria Road, High Wycombe about 1935\n",
      "New Police Station High Wycombe\n",
      "Similarity score: 0.908988893032074\n",
      "---\n",
      "Similar text: New Police Station in Queen Victoria Road, High Wycombe in 1937\n",
      "New Police Station High Wycombe\n",
      "Similarity score: 0.8999471068382263\n",
      "---\n",
      "Similar text: High Wycombe Police Station, in Queen Victoria Road, High Wycombe. Oct 1935\n",
      "New Police Station High Wycombe viewed from opposite side of the road\n",
      "Similarity score: 0.8994211554527283\n",
      "---\n",
      "Similar text: High Wycombe Police Station and Town Hall Queen Victoria Road, High Wycombe. late 1935\n",
      "Police Station and Town Hall viewed side on and commemorative bridge over River Wye on western side\n",
      "Similarity score: 0.8928785920143127\n",
      "---\n"
     ]
    }
   ],
   "source": [
    "# General Query about a Location: \n",
    "query = \"What is Queen Victoria Road in High Wycombe known for?\"\n",
    "search(query, model)"
   ]
  },
  {
   "cell_type": "code",
   "execution_count": 11,
   "metadata": {},
   "outputs": [
    {
     "name": "stdout",
     "output_type": "stream",
     "text": [
      "Similar text: Postcard showing a view of the entrance hall Wycombe Abbey School, High Wycombe. date unknown\n",
      "Interior of Wycombe Abbey School, entrance hall with American Plaque, Gothic style window and ceiling, table chairs and carpet, picture/hanging over fireplace\n",
      "Similarity score: 0.8265578746795654\n",
      "---\n",
      "Similar text: View of S. side of Wycombe Abbey School, High Wycombe, date unknown\n",
      "View of Wycombe Abbey School showing cloisters on S. side\n",
      "Similarity score: 0.8248274326324463\n",
      "---\n",
      "Similar text: High Wycombe Police Station, Queen Victoria Road, High Wycombe about 1935\n",
      "New Police Station High Wycombe\n",
      "Similarity score: 0.8244389295578003\n",
      "---\n"
     ]
    }
   ],
   "source": [
    "# Specific Event or Item Query: \n",
    "query = \"Information about the time capsule found in High Wycombe.\"\n",
    "search(query, model, k=3)\n",
    "\n",
    "# The model does not perform that well for specific events. When considering only Semanticity and not contextual relevance. "
   ]
  },
  {
   "cell_type": "code",
   "execution_count": 12,
   "metadata": {},
   "outputs": [
    {
     "name": "stdout",
     "output_type": "stream",
     "text": [
      "Similar text: Two Library staff in the Reference Library, Queen Victoria Rd, High Wycombe. about 1992\n",
      "Reference Library\n",
      "Similarity score: 0.9056596159934998\n",
      "---\n",
      "Similar text: Reference Library, Queen Victoria Rd, High Wycombe. 1993 to 1994\n",
      "Reference Library\n",
      "Similarity score: 0.8937884569168091\n",
      "---\n",
      "Similar text: Reference Library door, Queen Victoria Rd, High Wycombe. about 1992\n",
      "Corridor entrance to Reference Library\n",
      "Similarity score: 0.8874964714050293\n",
      "---\n"
     ]
    }
   ],
   "source": [
    "# Cultural or Historical Site Query: \n",
    "query = \"Where is the Reference Library located in High Wycombe?\"\n",
    "search(query, model, k=3)\n",
    "\n"
   ]
  },
  {
   "cell_type": "code",
   "execution_count": 13,
   "metadata": {},
   "outputs": [
    {
     "name": "stdout",
     "output_type": "stream",
     "text": [
      "Similar text: Looking SE, a view of the N front of Wycombe Abbey from the drive, Abbey Grounds, High Wycombe. Circa 1895\n",
      "The North front of Wycombe Abbey, from the drive\n",
      "Similarity score: 0.862769603729248\n",
      "---\n",
      "Similar text: High Wycombe Police Station, Queen Victoria Road, High Wycombe about 1935\n",
      "New Police Station High Wycombe\n",
      "Similarity score: 0.8619149923324585\n",
      "---\n",
      "Similar text: Looking N, a view of the front of Wycombe Museum (formerly Castle Hill House), with two benches against the wall. Priory Ave, High Wycombe. early 1990's\n",
      "Front of Wycombe Museum, formerly Castle Hill House, with two benches against the wall The drive runs along the right.\n",
      "Similarity score: 0.8610037565231323\n",
      "---\n"
     ]
    }
   ],
   "source": [
    "# Broad Historical or Cultural Query:\n",
    "query = \"Historical landmarks in High Wycombe.\"\n",
    "search(query, model, k=3)\n",
    "\n"
   ]
  },
  {
   "cell_type": "markdown",
   "metadata": {},
   "source": [
    "### Implementing the formula."
   ]
  },
  {
   "cell_type": "markdown",
   "metadata": {},
   "source": []
  }
 ],
 "metadata": {
  "kernelspec": {
   "display_name": "venv",
   "language": "python",
   "name": "python3"
  },
  "language_info": {
   "codemirror_mode": {
    "name": "ipython",
    "version": 3
   },
   "file_extension": ".py",
   "mimetype": "text/x-python",
   "name": "python",
   "nbconvert_exporter": "python",
   "pygments_lexer": "ipython3",
   "version": "3.10.0"
  }
 },
 "nbformat": 4,
 "nbformat_minor": 2
}
