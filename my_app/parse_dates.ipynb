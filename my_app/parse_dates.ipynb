{
 "cells": [
  {
   "cell_type": "code",
   "execution_count": 23,
   "metadata": {},
   "outputs": [
    {
     "name": "stdout",
     "output_type": "stream",
     "text": [
      "Data processed and saved to /Users/thebekhruz/Desktop/100Days-Of-Code/100-Days-of-NLP-Odyssey/data/raw/data_formatted_date.jsonl\n"
     ]
    }
   ],
   "source": [
    "import json\n",
    "import re\n",
    "\n",
    "def extract_year(date_str):\n",
    "    \"\"\"Extracts a 4-digit year from a given date string using regular expression.\n",
    "    Returns 'Unknown' if no year is found.\"\"\"\n",
    "    match = re.search(r'\\b\\d{4}\\b', date_str)\n",
    "    return match.group(0) if match else \"Unknown\"\n",
    "\n",
    "def load_data(file_path):\n",
    "    \"\"\"Load JSON Lines file and return a list of dictionaries.\"\"\"\n",
    "    updated_lines = []\n",
    "    with open(file_path, 'r') as file:\n",
    "        for line in file:\n",
    "            obj = json.loads(line)\n",
    "            if 'mentions' in obj:\n",
    "                for mention in obj['mentions']:\n",
    "                    if mention.get('ne_type') == 'DATE':\n",
    "                        # Extract year and ensure formatted_date is not None or empty\n",
    "                        mention['formatted_date'] = extract_year(mention['ne_span'])\n",
    "                        if not mention['formatted_date']:\n",
    "                            mention['formatted_date'] = \"Unknown\"  # Default value if empty or None\n",
    "            updated_lines.append(json.dumps(obj))\n",
    "    return updated_lines\n",
    "\n",
    "def save_data(updated_lines, file_path):\n",
    "    \"\"\"Saves the updated lines to a specified file path.\"\"\"\n",
    "    with open(file_path, 'w') as outfile:\n",
    "        for line in updated_lines:\n",
    "            outfile.write(f\"{line}\\n\")\n",
    "    return file_path\n",
    "\n",
    "# Update the file paths to match your local setup\n",
    "input_file_path = \"/Users/thebekhruz/Desktop/100Days-Of-Code/100-Days-of-NLP-Odyssey/data/raw/sample_2k_swop_output.jsonl\"\n",
    "output_file_path = \"/Users/thebekhruz/Desktop/100Days-Of-Code/100-Days-of-NLP-Odyssey/data/raw/data_formatted_date.jsonl\"\n",
    "\n",
    "updated_lines = load_data(input_file_path)\n",
    "output_file_path = save_data(updated_lines, output_file_path)\n",
    "\n",
    "print(f\"Data processed and saved to {output_file_path}\")\n"
   ]
  }
 ],
 "metadata": {
  "kernelspec": {
   "display_name": "venv",
   "language": "python",
   "name": "python3"
  },
  "language_info": {
   "codemirror_mode": {
    "name": "ipython",
    "version": 3
   },
   "file_extension": ".py",
   "mimetype": "text/x-python",
   "name": "python",
   "nbconvert_exporter": "python",
   "pygments_lexer": "ipython3",
   "version": "3.10.0"
  }
 },
 "nbformat": 4,
 "nbformat_minor": 2
}
